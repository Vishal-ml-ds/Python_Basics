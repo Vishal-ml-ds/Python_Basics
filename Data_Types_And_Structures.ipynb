{
  "nbformat": 4,
  "nbformat_minor": 5,
  "metadata": {
    "colab": {
      "provenance": []
    },
    "language_info": {
      "name": "python"
    },
    "kernelspec": {
      "name": "python3",
      "display_name": "Python 3"
    }
  },
  "cells": [
    {
      "id": "54bd701e",
      "cell_type": "markdown",
      "source": [
        "# Data Types and Structures - Assignment Solutions\n"
      ],
      "metadata": {
        "id": "54bd701e"
      }
    },
    {
      "id": "626d3c74",
      "cell_type": "markdown",
      "source": [
        "## Theoretical Questions"
      ],
      "metadata": {
        "id": "626d3c74"
      }
    },
    {
      "id": "bab3b787",
      "cell_type": "markdown",
      "source": [
        "### Q1. What are data structures, and why are they important\n",
        "Data structures are specialized formats for organizing, processing, retrieving, and storing data. They are important because they enable efficient data access and modification, helping solve complex computational problems."
      ],
      "metadata": {
        "id": "bab3b787"
      }
    },
    {
      "id": "15feb78f",
      "cell_type": "markdown",
      "source": [
        "### Q2. Explain the difference between mutable and immutable data types with examples\n",
        "Mutable data types can be changed after creation (e.g., list, set, dict), while immutable types cannot be changed (e.g., int, float, str, tuple).\n",
        "Example:\n",
        "Mutable: l = [1,2]; l[0] = 10\n",
        "Immutable: t = (1,2); t[0] = 10 -> Error"
      ],
      "metadata": {
        "id": "15feb78f"
      }
    },
    {
      "id": "e2348cba",
      "cell_type": "markdown",
      "source": [
        "### Q3. What are the main differences between lists and tuples in Python\n",
        "Lists are mutable and defined using square brackets [], whereas tuples are immutable and use parentheses (). Lists are generally slower than tuples due to their mutability."
      ],
      "metadata": {
        "id": "e2348cba"
      }
    },
    {
      "id": "705d8b3e",
      "cell_type": "markdown",
      "source": [
        "### Q4. Describe how dictionaries store data\n",
        "Dictionaries store data in key-value pairs. Each key maps to a value, and keys must be unique and immutable."
      ],
      "metadata": {
        "id": "705d8b3e"
      }
    },
    {
      "id": "2b0b0710",
      "cell_type": "markdown",
      "source": [
        "### Q5. Why might you use a set instead of a list in Python\n",
        "Sets are used when you need to store unique elements and perform mathematical set operations like union, intersection, and difference."
      ],
      "metadata": {
        "id": "2b0b0710"
      }
    },
    {
      "id": "6618a21a",
      "cell_type": "markdown",
      "source": [
        "### Q6. What is a string in Python, and how is it different from a list\n",
        "A string is an immutable sequence of characters, while a list is a mutable sequence of items. Strings can’t be changed once created."
      ],
      "metadata": {
        "id": "6618a21a"
      }
    },
    {
      "id": "bf8e9988",
      "cell_type": "markdown",
      "source": [
        "### Q7. How do tuples ensure data integrity in Python\n",
        "Tuples are immutable, meaning their data cannot be modified after creation. This ensures the data remains constant and secure."
      ],
      "metadata": {
        "id": "bf8e9988"
      }
    },
    {
      "id": "b987c007",
      "cell_type": "markdown",
      "source": [
        "### Q8. What is a hash table, and how does it relate to dictionaries in Python\n",
        "A hash table is a data structure that maps keys to values via a hash function. Python’s dictionary uses a hash table internally."
      ],
      "metadata": {
        "id": "b987c007"
      }
    },
    {
      "id": "ec950b04",
      "cell_type": "markdown",
      "source": [
        "### Q9. Can lists contain different data types in Python\n",
        "Yes, Python lists can contain items of different data types, such as integers, strings, and even other lists."
      ],
      "metadata": {
        "id": "ec950b04"
      }
    },
    {
      "id": "62073cc9",
      "cell_type": "markdown",
      "source": [
        "### Q10. Explain why strings are immutable in Python\n",
        "Strings are immutable to enhance performance and memory efficiency, especially in multi-threaded environments."
      ],
      "metadata": {
        "id": "62073cc9"
      }
    },
    {
      "id": "992a8d0f",
      "cell_type": "markdown",
      "source": [
        "### Q11. What advantages do dictionaries offer over lists for certain tasks\n",
        "Dictionaries offer faster lookups via keys and better represent key-value relationships than lists."
      ],
      "metadata": {
        "id": "992a8d0f"
      }
    },
    {
      "id": "9e946b9c",
      "cell_type": "markdown",
      "source": [
        "### Q12. Describe a scenario where using a tuple would be preferable over a list\n",
        "When data must remain constant and protected from modification, such as geographic coordinates or days of the week."
      ],
      "metadata": {
        "id": "9e946b9c"
      }
    },
    {
      "id": "67e743c2",
      "cell_type": "markdown",
      "source": [
        "### Q13. How do sets handle duplicate values in Python\n",
        "Sets automatically remove duplicate elements and only store unique values."
      ],
      "metadata": {
        "id": "67e743c2"
      }
    },
    {
      "id": "e05ee8b0",
      "cell_type": "markdown",
      "source": [
        "### Q14. How does the “in” keyword work differently for lists and dictionaries\n",
        "In lists, it checks if a value exists. In dictionaries, it checks if a key exists."
      ],
      "metadata": {
        "id": "e05ee8b0"
      }
    },
    {
      "id": "747eda70",
      "cell_type": "markdown",
      "source": [
        "### Q15. Can you modify the elements of a tuple? Explain why or why not\n",
        "No, because tuples are immutable. Once defined, their elements cannot be altered."
      ],
      "metadata": {
        "id": "747eda70"
      }
    },
    {
      "id": "1480b249",
      "cell_type": "markdown",
      "source": [
        "### Q16. What is a nested dictionary, and give an example of its use case\n",
        "A dictionary within a dictionary.\n",
        "Example: students = {'101': {'name': 'Alice', 'age': 20}}"
      ],
      "metadata": {
        "id": "1480b249"
      }
    },
    {
      "id": "8461b9a4",
      "cell_type": "markdown",
      "source": [
        "### Q17. Describe the time complexity of accessing elements in a dictionary\n",
        "The average time complexity for accessing elements in a dictionary is O(1)."
      ],
      "metadata": {
        "id": "8461b9a4"
      }
    },
    {
      "id": "062f8bff",
      "cell_type": "markdown",
      "source": [
        "### Q18. In what situations are lists preferred over dictionaries\n",
        "Lists are preferred when the order of items is important or when iterating through items without needing keys."
      ],
      "metadata": {
        "id": "062f8bff"
      }
    },
    {
      "id": "20cbd7ea",
      "cell_type": "markdown",
      "source": [
        "### Q19. Why are dictionaries considered unordered, and how does that affect data retrieval\n",
        "Historically, dictionaries were unordered; from Python 3.7+, they preserve insertion order, but still rely on hash functions, which means key-based retrieval not index-based."
      ],
      "metadata": {
        "id": "20cbd7ea"
      }
    },
    {
      "id": "f819ede1",
      "cell_type": "markdown",
      "source": [
        "### Q20. Explain the difference between a list and a dictionary in terms of data retrieval.\n",
        "Lists use index-based retrieval, while dictionaries use key-based retrieval for faster and more descriptive access."
      ],
      "metadata": {
        "id": "f819ede1"
      }
    },
    {
      "id": "344476be",
      "cell_type": "markdown",
      "source": [
        "## Practical Questions"
      ],
      "metadata": {
        "id": "344476be"
      }
    },
    {
      "id": "567d1758",
      "cell_type": "markdown",
      "source": [
        "### Q1. Write a code to create a string with your name and print it"
      ],
      "metadata": {
        "id": "567d1758"
      }
    },
    {
      "id": "9596836a",
      "cell_type": "code",
      "metadata": {
        "colab": {
          "base_uri": "https://localhost:8080/"
        },
        "id": "9596836a",
        "outputId": "85d23cb9-a36d-442c-9858-4b58a3cfbd40"
      },
      "execution_count": 166,
      "source": [
        "name = 'Vishal'\n",
        "print(name)"
      ],
      "outputs": [
        {
          "output_type": "stream",
          "name": "stdout",
          "text": [
            "Vishal\n"
          ]
        }
      ]
    },
    {
      "id": "2f5e3d7c",
      "cell_type": "markdown",
      "source": [
        "### Q2. Write a code to find the length of the string \"Hello World\""
      ],
      "metadata": {
        "id": "2f5e3d7c"
      }
    },
    {
      "id": "28eed411",
      "cell_type": "code",
      "metadata": {
        "colab": {
          "base_uri": "https://localhost:8080/"
        },
        "id": "28eed411",
        "outputId": "87a24c4e-9883-4ae9-bcc7-1d1c120c3a05"
      },
      "execution_count": 167,
      "source": [
        "s = 'Hello World'\n",
        "print(len(s))"
      ],
      "outputs": [
        {
          "output_type": "stream",
          "name": "stdout",
          "text": [
            "11\n"
          ]
        }
      ]
    },
    {
      "id": "0560cc3a",
      "cell_type": "markdown",
      "source": [
        "### Q3. Write a code to slice the first 3 characters from the string \"Python Programming\""
      ],
      "metadata": {
        "id": "0560cc3a"
      }
    },
    {
      "id": "76b5c2d1",
      "cell_type": "code",
      "metadata": {
        "colab": {
          "base_uri": "https://localhost:8080/"
        },
        "id": "76b5c2d1",
        "outputId": "a5a56180-52ff-40ec-86fc-8790994c12da"
      },
      "execution_count": 168,
      "source": [
        "s = 'Python Programming'\n",
        "print(s[:3])"
      ],
      "outputs": [
        {
          "output_type": "stream",
          "name": "stdout",
          "text": [
            "Pyt\n"
          ]
        }
      ]
    },
    {
      "id": "5b56c0ad",
      "cell_type": "markdown",
      "source": [
        "### Q4. Write a code to convert the string \"hello\" to uppercase"
      ],
      "metadata": {
        "id": "5b56c0ad"
      }
    },
    {
      "id": "1d5752c5",
      "cell_type": "code",
      "metadata": {
        "colab": {
          "base_uri": "https://localhost:8080/"
        },
        "id": "1d5752c5",
        "outputId": "f30a4082-04c6-420a-f0bc-5e24f28156f3"
      },
      "execution_count": 169,
      "source": [
        "s = 'hello'\n",
        "print(s.upper())"
      ],
      "outputs": [
        {
          "output_type": "stream",
          "name": "stdout",
          "text": [
            "HELLO\n"
          ]
        }
      ]
    },
    {
      "id": "8ee276c3",
      "cell_type": "markdown",
      "source": [
        "### Q5. Write a code to replace the word \"apple\" with \"orange\" in the string \"I like apple\""
      ],
      "metadata": {
        "id": "8ee276c3"
      }
    },
    {
      "id": "e16823cc",
      "cell_type": "code",
      "metadata": {
        "colab": {
          "base_uri": "https://localhost:8080/"
        },
        "id": "e16823cc",
        "outputId": "61b61137-1521-4668-f362-283af39f362c"
      },
      "execution_count": 170,
      "source": [
        "s = 'I like apple'\n",
        "print(s.replace('apple', 'orange'))"
      ],
      "outputs": [
        {
          "output_type": "stream",
          "name": "stdout",
          "text": [
            "I like orange\n"
          ]
        }
      ]
    },
    {
      "id": "67014804",
      "cell_type": "markdown",
      "source": [
        "### Q6. Write a code to create a list with numbers 1 to 5 and print it"
      ],
      "metadata": {
        "id": "67014804"
      }
    },
    {
      "id": "5b075d2d",
      "cell_type": "code",
      "metadata": {
        "colab": {
          "base_uri": "https://localhost:8080/"
        },
        "id": "5b075d2d",
        "outputId": "ec845461-3bd2-4d73-c2d0-4895e9fb2e39"
      },
      "execution_count": 171,
      "source": [
        "lst = [1, 2, 3, 4, 5]\n",
        "print(lst)"
      ],
      "outputs": [
        {
          "output_type": "stream",
          "name": "stdout",
          "text": [
            "[1, 2, 3, 4, 5]\n"
          ]
        }
      ]
    },
    {
      "id": "e19cfd29",
      "cell_type": "markdown",
      "source": [
        "### Q7. Write a code to append the number 10 to the list [1, 2, 3, 4]"
      ],
      "metadata": {
        "id": "e19cfd29"
      }
    },
    {
      "id": "13fd5a6e",
      "cell_type": "code",
      "metadata": {
        "colab": {
          "base_uri": "https://localhost:8080/"
        },
        "id": "13fd5a6e",
        "outputId": "efac2943-addf-498c-ca66-ecfcc728dfea"
      },
      "execution_count": 172,
      "source": [
        "lst = [1, 2, 3, 4]\n",
        "lst.append(10)\n",
        "print(lst)"
      ],
      "outputs": [
        {
          "output_type": "stream",
          "name": "stdout",
          "text": [
            "[1, 2, 3, 4, 10]\n"
          ]
        }
      ]
    },
    {
      "id": "5f095af9",
      "cell_type": "markdown",
      "source": [
        "### Q8. Write a code to remove the number 3 from the list [1, 2, 3, 4, 5]"
      ],
      "metadata": {
        "id": "5f095af9"
      }
    },
    {
      "id": "83ed3623",
      "cell_type": "code",
      "metadata": {
        "colab": {
          "base_uri": "https://localhost:8080/"
        },
        "id": "83ed3623",
        "outputId": "0a170b6c-ecdc-4a3a-9caf-1cdcc7a3b258"
      },
      "execution_count": 173,
      "source": [
        "lst = [1, 2, 3, 4, 5]\n",
        "lst.remove(3)\n",
        "print(lst)"
      ],
      "outputs": [
        {
          "output_type": "stream",
          "name": "stdout",
          "text": [
            "[1, 2, 4, 5]\n"
          ]
        }
      ]
    },
    {
      "id": "d99fc108",
      "cell_type": "markdown",
      "source": [
        "### Q9. Write a code to access the second element in the list ['a', 'b', 'c', 'd']"
      ],
      "metadata": {
        "id": "d99fc108"
      }
    },
    {
      "id": "9c4bba31",
      "cell_type": "code",
      "metadata": {
        "colab": {
          "base_uri": "https://localhost:8080/"
        },
        "id": "9c4bba31",
        "outputId": "e4b8569d-3d73-41c2-85a7-154cac317e99"
      },
      "execution_count": 174,
      "source": [
        "lst = ['a', 'b', 'c', 'd']\n",
        "print(lst[1])"
      ],
      "outputs": [
        {
          "output_type": "stream",
          "name": "stdout",
          "text": [
            "b\n"
          ]
        }
      ]
    },
    {
      "id": "77fd5ac9",
      "cell_type": "markdown",
      "source": [
        "### Q10. Write a code to reverse the list [10, 20, 30, 40, 50]"
      ],
      "metadata": {
        "id": "77fd5ac9"
      }
    },
    {
      "id": "62912100",
      "cell_type": "code",
      "metadata": {
        "colab": {
          "base_uri": "https://localhost:8080/"
        },
        "id": "62912100",
        "outputId": "e8d6b812-3ba0-4528-afe1-1e2f3d8102c9"
      },
      "execution_count": 175,
      "source": [
        "lst = [10, 20, 30, 40, 50]\n",
        "lst.reverse()\n",
        "print(lst)"
      ],
      "outputs": [
        {
          "output_type": "stream",
          "name": "stdout",
          "text": [
            "[50, 40, 30, 20, 10]\n"
          ]
        }
      ]
    },
    {
      "id": "f00e42ae",
      "cell_type": "markdown",
      "source": [
        "### Q11. Write a code to create a tuple with the elements 100, 200, 300 and print it"
      ],
      "metadata": {
        "id": "f00e42ae"
      }
    },
    {
      "id": "9f51128c",
      "cell_type": "code",
      "metadata": {
        "colab": {
          "base_uri": "https://localhost:8080/"
        },
        "id": "9f51128c",
        "outputId": "86b079c3-8461-4c10-9bf3-aa73cd2aa733"
      },
      "execution_count": 176,
      "source": [
        "t = (100, 200, 300)\n",
        "print(t)"
      ],
      "outputs": [
        {
          "output_type": "stream",
          "name": "stdout",
          "text": [
            "(100, 200, 300)\n"
          ]
        }
      ]
    },
    {
      "id": "b3368327",
      "cell_type": "markdown",
      "source": [
        "### Q12. Write a code to access the second-to-last element of the tuple ('red', 'green', 'blue', 'yellow')"
      ],
      "metadata": {
        "id": "b3368327"
      }
    },
    {
      "id": "a846d7aa",
      "cell_type": "code",
      "metadata": {
        "colab": {
          "base_uri": "https://localhost:8080/"
        },
        "id": "a846d7aa",
        "outputId": "f070313e-9aca-49d2-ba42-f3265a4cf89f"
      },
      "execution_count": 177,
      "source": [
        "t = ('red', 'green', 'blue', 'yellow')\n",
        "print(t[-2])"
      ],
      "outputs": [
        {
          "output_type": "stream",
          "name": "stdout",
          "text": [
            "blue\n"
          ]
        }
      ]
    },
    {
      "id": "046ad629",
      "cell_type": "markdown",
      "source": [
        "### Q13. Write a code to find the minimum number in the tuple (10, 20, 5, 15)"
      ],
      "metadata": {
        "id": "046ad629"
      }
    },
    {
      "id": "f12d546c",
      "cell_type": "code",
      "metadata": {
        "colab": {
          "base_uri": "https://localhost:8080/"
        },
        "id": "f12d546c",
        "outputId": "2b311bc4-b652-4f8f-93cc-881c707f99cf"
      },
      "execution_count": 178,
      "source": [
        "t = (10, 20, 5, 15)\n",
        "print(min(t))"
      ],
      "outputs": [
        {
          "output_type": "stream",
          "name": "stdout",
          "text": [
            "5\n"
          ]
        }
      ]
    },
    {
      "id": "eb717640",
      "cell_type": "markdown",
      "source": [
        "### Q14. Write a code to find the index of the element \"cat\" in the tuple ('dog', 'cat', 'rabbit')"
      ],
      "metadata": {
        "id": "eb717640"
      }
    },
    {
      "id": "29a1dc4b",
      "cell_type": "code",
      "metadata": {
        "colab": {
          "base_uri": "https://localhost:8080/"
        },
        "id": "29a1dc4b",
        "outputId": "d7809ac9-9d1a-412d-c286-2c330593161e"
      },
      "execution_count": 179,
      "source": [
        "t = ('dog', 'cat', 'rabbit')\n",
        "print(t.index('cat'))"
      ],
      "outputs": [
        {
          "output_type": "stream",
          "name": "stdout",
          "text": [
            "1\n"
          ]
        }
      ]
    },
    {
      "id": "75f71c22",
      "cell_type": "markdown",
      "source": [
        "### Q15. Write a code to create a tuple containing three different fruits and check if \"kiwi\" is in it"
      ],
      "metadata": {
        "id": "75f71c22"
      }
    },
    {
      "id": "17623ab9",
      "cell_type": "code",
      "metadata": {
        "colab": {
          "base_uri": "https://localhost:8080/"
        },
        "id": "17623ab9",
        "outputId": "c784cff2-2393-4e31-f6a3-7f50ea491953"
      },
      "execution_count": 180,
      "source": [
        "t = ('apple', 'banana', 'kiwi')\n",
        "print('kiwi' in t)"
      ],
      "outputs": [
        {
          "output_type": "stream",
          "name": "stdout",
          "text": [
            "True\n"
          ]
        }
      ]
    },
    {
      "id": "1e6f79bd",
      "cell_type": "markdown",
      "source": [
        "### Q16. Write a code to create a set with the elements 'a', 'b', 'c' and print it"
      ],
      "metadata": {
        "id": "1e6f79bd"
      }
    },
    {
      "id": "168d2270",
      "cell_type": "code",
      "metadata": {
        "colab": {
          "base_uri": "https://localhost:8080/"
        },
        "id": "168d2270",
        "outputId": "6f6ff6f9-64a6-4f6b-cff0-b257a66af617"
      },
      "execution_count": 181,
      "source": [
        "s = {'a', 'b', 'c'}\n",
        "print(s)"
      ],
      "outputs": [
        {
          "output_type": "stream",
          "name": "stdout",
          "text": [
            "{'a', 'c', 'b'}\n"
          ]
        }
      ]
    },
    {
      "id": "daf7d7ea",
      "cell_type": "markdown",
      "source": [
        "### Q17. Write a code to clear all elements from the set {1, 2, 3, 4, 5}"
      ],
      "metadata": {
        "id": "daf7d7ea"
      }
    },
    {
      "id": "34467821",
      "cell_type": "code",
      "metadata": {
        "colab": {
          "base_uri": "https://localhost:8080/"
        },
        "id": "34467821",
        "outputId": "e6c3e60e-e5f9-4c15-ac9f-29188d0aa54b"
      },
      "execution_count": 182,
      "source": [
        "s = {1, 2, 3, 4, 5}\n",
        "s.clear()\n",
        "print(s)"
      ],
      "outputs": [
        {
          "output_type": "stream",
          "name": "stdout",
          "text": [
            "set()\n"
          ]
        }
      ]
    },
    {
      "id": "dafbb5fb",
      "cell_type": "markdown",
      "source": [
        "### Q18. Write a code to remove the element 4 from the set {1, 2, 3, 4}"
      ],
      "metadata": {
        "id": "dafbb5fb"
      }
    },
    {
      "id": "2e524655",
      "cell_type": "code",
      "metadata": {
        "colab": {
          "base_uri": "https://localhost:8080/"
        },
        "id": "2e524655",
        "outputId": "1203b12e-2a76-4a16-8960-fb6c66aa77e3"
      },
      "execution_count": 183,
      "source": [
        "s = {1, 2, 3, 4}\n",
        "s.remove(4)\n",
        "print(s)"
      ],
      "outputs": [
        {
          "output_type": "stream",
          "name": "stdout",
          "text": [
            "{1, 2, 3}\n"
          ]
        }
      ]
    },
    {
      "id": "07e222e0",
      "cell_type": "markdown",
      "source": [
        "### Q19. Write a code to find the union of two sets {1, 2, 3} and {3, 4, 5}"
      ],
      "metadata": {
        "id": "07e222e0"
      }
    },
    {
      "id": "3aa70da4",
      "cell_type": "code",
      "metadata": {
        "colab": {
          "base_uri": "https://localhost:8080/"
        },
        "id": "3aa70da4",
        "outputId": "1be8cab1-352d-4af5-9d30-b99079ca17ad"
      },
      "execution_count": 184,
      "source": [
        "a = {1, 2, 3}\n",
        "b = {3, 4, 5}\n",
        "print(a.union(b))"
      ],
      "outputs": [
        {
          "output_type": "stream",
          "name": "stdout",
          "text": [
            "{1, 2, 3, 4, 5}\n"
          ]
        }
      ]
    },
    {
      "id": "93d1d0c1",
      "cell_type": "markdown",
      "source": [
        "### Q20. Write a code to find the intersection of two sets {1, 2, 3} and {2, 3, 4}"
      ],
      "metadata": {
        "id": "93d1d0c1"
      }
    },
    {
      "id": "fe47aa98",
      "cell_type": "code",
      "metadata": {
        "colab": {
          "base_uri": "https://localhost:8080/"
        },
        "id": "fe47aa98",
        "outputId": "2268a530-500c-45a2-e442-f7609ca1c82c"
      },
      "execution_count": 185,
      "source": [
        "a = {1, 2, 3}\n",
        "b = {2, 3, 4}\n",
        "print(a.intersection(b))"
      ],
      "outputs": [
        {
          "output_type": "stream",
          "name": "stdout",
          "text": [
            "{2, 3}\n"
          ]
        }
      ]
    },
    {
      "id": "072ad069",
      "cell_type": "markdown",
      "source": [
        "### Q21. Write a code to create a dictionary with the keys \"name\", \"age\", and \"city\", and print it"
      ],
      "metadata": {
        "id": "072ad069"
      }
    },
    {
      "id": "1be027f9",
      "cell_type": "code",
      "metadata": {
        "colab": {
          "base_uri": "https://localhost:8080/"
        },
        "id": "1be027f9",
        "outputId": "6dc020e8-b54b-43df-e201-8e34ec21177c"
      },
      "execution_count": 186,
      "source": [
        "d = {'name': 'John', 'age': 25, 'city': 'New York'}\n",
        "print(d)"
      ],
      "outputs": [
        {
          "output_type": "stream",
          "name": "stdout",
          "text": [
            "{'name': 'John', 'age': 25, 'city': 'New York'}\n"
          ]
        }
      ]
    },
    {
      "id": "a04aed82",
      "cell_type": "markdown",
      "source": [
        "### Q22. Write a code to add a new key-value pair \"country\": \"USA\" to the dictionary {'name': 'John', 'age': 25}"
      ],
      "metadata": {
        "id": "a04aed82"
      }
    },
    {
      "id": "2346b3fb",
      "cell_type": "code",
      "metadata": {
        "colab": {
          "base_uri": "https://localhost:8080/"
        },
        "id": "2346b3fb",
        "outputId": "1440acb5-56dd-470a-9bf2-ac95d7ca1392"
      },
      "execution_count": 187,
      "source": [
        "d = {'name': 'John', 'age': 25}\n",
        "d['country'] = 'USA'\n",
        "print(d)"
      ],
      "outputs": [
        {
          "output_type": "stream",
          "name": "stdout",
          "text": [
            "{'name': 'John', 'age': 25, 'country': 'USA'}\n"
          ]
        }
      ]
    },
    {
      "id": "e7c200d5",
      "cell_type": "markdown",
      "source": [
        "### Q23. Write a code to access the value associated with the key \"name\" in the dictionary {'name': 'Alice', 'age': 30}"
      ],
      "metadata": {
        "id": "e7c200d5"
      }
    },
    {
      "id": "21ca72f6",
      "cell_type": "code",
      "metadata": {
        "colab": {
          "base_uri": "https://localhost:8080/"
        },
        "id": "21ca72f6",
        "outputId": "11805b90-8b32-4be9-8ecf-f0e0007bbae4"
      },
      "execution_count": 188,
      "source": [
        "d = {'name': 'Alice', 'age': 30}\n",
        "print(d['name'])"
      ],
      "outputs": [
        {
          "output_type": "stream",
          "name": "stdout",
          "text": [
            "Alice\n"
          ]
        }
      ]
    },
    {
      "id": "bf0ccc4c",
      "cell_type": "markdown",
      "source": [
        "### Q24. Write a code to remove the key \"age\" from the dictionary {'name': 'Bob', 'age': 22, 'city': 'New York'}"
      ],
      "metadata": {
        "id": "bf0ccc4c"
      }
    },
    {
      "id": "002b88f1",
      "cell_type": "code",
      "metadata": {
        "colab": {
          "base_uri": "https://localhost:8080/"
        },
        "id": "002b88f1",
        "outputId": "4374f6c4-793e-4387-cacf-102029eca934"
      },
      "execution_count": 189,
      "source": [
        "d = {'name': 'Bob', 'age': 22, 'city': 'New York'}\n",
        "d.pop('age')\n",
        "print(d)"
      ],
      "outputs": [
        {
          "output_type": "stream",
          "name": "stdout",
          "text": [
            "{'name': 'Bob', 'city': 'New York'}\n"
          ]
        }
      ]
    },
    {
      "id": "b0e4ef95",
      "cell_type": "markdown",
      "source": [
        "### Q25. Write a code to check if the key \"city\" exists in the dictionary {'name': 'Alice', 'city': 'Paris'}"
      ],
      "metadata": {
        "id": "b0e4ef95"
      }
    },
    {
      "id": "230ce87b",
      "cell_type": "code",
      "metadata": {
        "colab": {
          "base_uri": "https://localhost:8080/"
        },
        "id": "230ce87b",
        "outputId": "edc079b9-b6de-477d-d43f-c68e9aa3c756"
      },
      "execution_count": 190,
      "source": [
        "d = {'name': 'Alice', 'city': 'Paris'}\n",
        "print('city' in d)"
      ],
      "outputs": [
        {
          "output_type": "stream",
          "name": "stdout",
          "text": [
            "True\n"
          ]
        }
      ]
    },
    {
      "id": "4f73a69a",
      "cell_type": "markdown",
      "source": [
        "### Q26. Write a code to create a list, a tuple, and a dictionary, and print them all"
      ],
      "metadata": {
        "id": "4f73a69a"
      }
    },
    {
      "id": "56c04c3a",
      "cell_type": "code",
      "metadata": {
        "colab": {
          "base_uri": "https://localhost:8080/"
        },
        "id": "56c04c3a",
        "outputId": "0471739f-88e5-4330-ff83-af8f9634bb52"
      },
      "execution_count": 191,
      "source": [
        "lst = [1, 2, 3]\n",
        "tup = (4, 5, 6)\n",
        "dic = {'a': 1, 'b': 2}\n",
        "print(lst, tup, dic)"
      ],
      "outputs": [
        {
          "output_type": "stream",
          "name": "stdout",
          "text": [
            "[1, 2, 3] (4, 5, 6) {'a': 1, 'b': 2}\n"
          ]
        }
      ]
    },
    {
      "id": "739fac67",
      "cell_type": "markdown",
      "source": [
        "### Q27. Write a code to create a list of 5 random numbers between 1 and 100, sort it in ascending order, and print the result."
      ],
      "metadata": {
        "id": "739fac67"
      }
    },
    {
      "id": "7598564b",
      "cell_type": "code",
      "metadata": {
        "colab": {
          "base_uri": "https://localhost:8080/"
        },
        "id": "7598564b",
        "outputId": "007c4950-5379-43d6-c01b-d79382b6584a"
      },
      "execution_count": 192,
      "source": [
        "import random\n",
        "lst = random.sample(range(1, 101), 5)\n",
        "lst.sort()\n",
        "print(lst)"
      ],
      "outputs": [
        {
          "output_type": "stream",
          "name": "stdout",
          "text": [
            "[29, 37, 50, 80, 92]\n"
          ]
        }
      ]
    },
    {
      "id": "9a34d0d8",
      "cell_type": "markdown",
      "source": [
        "### Q28. Write a code to create a list with strings and print the element at the third index"
      ],
      "metadata": {
        "id": "9a34d0d8"
      }
    },
    {
      "id": "95616471",
      "cell_type": "code",
      "metadata": {
        "colab": {
          "base_uri": "https://localhost:8080/"
        },
        "id": "95616471",
        "outputId": "9ee4e05f-f7bb-4c74-fe3e-4a5a62949599"
      },
      "execution_count": 193,
      "source": [
        "lst = ['apple', 'banana', 'cherry', 'date']\n",
        "print(lst[3])"
      ],
      "outputs": [
        {
          "output_type": "stream",
          "name": "stdout",
          "text": [
            "date\n"
          ]
        }
      ]
    },
    {
      "id": "04de6097",
      "cell_type": "markdown",
      "source": [
        "### Q29. Write a code to combine two dictionaries into one and print the result"
      ],
      "metadata": {
        "id": "04de6097"
      }
    },
    {
      "id": "e58eb94f",
      "cell_type": "code",
      "metadata": {
        "colab": {
          "base_uri": "https://localhost:8080/"
        },
        "id": "e58eb94f",
        "outputId": "c80d773a-2a83-4f1a-f6bc-1964532795aa"
      },
      "execution_count": 194,
      "source": [
        "d1 = {'a': 1}\n",
        "d2 = {'b': 2}\n",
        "d1.update(d2)\n",
        "print(d1)"
      ],
      "outputs": [
        {
          "output_type": "stream",
          "name": "stdout",
          "text": [
            "{'a': 1, 'b': 2}\n"
          ]
        }
      ]
    },
    {
      "id": "a3f14bfc",
      "cell_type": "markdown",
      "source": [
        "### Q30. Write a code to convert a list of strings into a set"
      ],
      "metadata": {
        "id": "a3f14bfc"
      }
    },
    {
      "id": "a54e26dd",
      "cell_type": "code",
      "metadata": {
        "colab": {
          "base_uri": "https://localhost:8080/"
        },
        "id": "a54e26dd",
        "outputId": "b19ccfe5-3f3b-4de6-eb1f-681cb6088828"
      },
      "execution_count": 195,
      "source": [
        "lst = ['apple', 'banana', 'apple']\n",
        "print(set(lst))"
      ],
      "outputs": [
        {
          "output_type": "stream",
          "name": "stdout",
          "text": [
            "{'banana', 'apple'}\n"
          ]
        }
      ]
    }
  ]
}
