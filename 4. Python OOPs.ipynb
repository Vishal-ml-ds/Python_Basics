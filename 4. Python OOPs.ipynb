{
 "cells": [
  {
   "cell_type": "markdown",
   "id": "c4110403",
   "metadata": {},
   "source": [
    "# Python OOPs Assignment Solutions"
   ]
  },
  {
   "cell_type": "markdown",
   "id": "004be708",
   "metadata": {},
   "source": [
    "## Theoretical Questions"
   ]
  },
  {
   "cell_type": "markdown",
   "id": "43eb008a",
   "metadata": {},
   "source": [
    "**Q1. What is Object-Oriented Programming (OOP)?**\n",
    "\n",
    "**Answer:** OOP is a paradigm based on objects containing data and behavior. It allows modular, reusable, and maintainable code by structuring programs around classes and objects.\n",
    "\n",
    "OOP enables design that mirrors real-world systems using four pillars: Encapsulation, Abstraction, Inheritance, and Polymorphism.\n",
    "_Example:_ A `Car` object can have properties like `brand`, `speed`, and behaviors like `accelerate()`."
   ]
  },
  {
   "cell_type": "markdown",
   "id": "99433709",
   "metadata": {},
   "source": [
    "**Q2. What is a class in OOP?**\n",
    "\n",
    "**Answer:** A class is a blueprint for objects. It defines attributes and behaviors. \n",
    "\n",
    "Example:\n",
    "```python\n",
    "class Car:\n",
    "    def __init__(self, brand):\n",
    "        self.brand = brand\n",
    "```"
   ]
  },
  {
   "cell_type": "markdown",
   "id": "eb9e764d",
   "metadata": {},
   "source": [
    "**Q3. What is an object in OOP?**\n",
    "\n",
    "**Answer:** An object is an instance of a class.\n",
    "\n",
    "Example:\n",
    "```python\n",
    "my_car = Car(\"Tesla\")\n",
    "print(my_car.brand)\n",
    "```"
   ]
  },
  {
   "cell_type": "markdown",
   "id": "3e4b6544",
   "metadata": {},
   "source": [
    "**Q4. What is the difference between abstraction and encapsulation?**\n",
    "\n",
    "**Answer:** Abstraction hides complexity (show what is necessary), while encapsulation hides data (protect the internal state using access modifiers).\n",
    "\n",
    "_Example:_\n",
    "```python\n",
    "class ATM:\n",
    "    def authenticate(self):\n",
    "        pass  # Abstracted details like PIN check, OTP verification\n",
    "```"
   ]
  },
  {
   "cell_type": "markdown",
   "id": "6704736a",
   "metadata": {},
   "source": [
    "**Q5. What are dunder methods in Python?**\n",
    "\n",
    "**Answer:** Dunder (double underscore) methods like `__init__`, `__str__`, `__call__` allow operator overloading and built-in behavior definition.\n",
    "\n",
    "They typically begin and end with double underscores (e.g., `__init__`, `__str__`) and let you define object behavior for built-in operations."
   ]
  },
  {
   "cell_type": "markdown",
   "id": "648dc244",
   "metadata": {},
   "source": [
    "**Q6. Explain the concept of inheritance in OOP.**\n",
    "\n",
    "**Answer:** Inheritance allows a class to derive from another, reusing and extending functionality.\n",
    "\n",
    "Example:\n",
    "```python\n",
    "class Animal:\n",
    "    def sound(self): print(\"Generic\")\n",
    "class Dog(Animal):\n",
    "    def sound(self): print(\"Bark\")\n",
    "```\n",
    "\n",
    "This allows reusability: child classes acquire fields/methods from the parent and can also override them."
   ]
  },
  {
   "cell_type": "markdown",
   "id": "6fb31f45",
   "metadata": {},
   "source": [
    "**Q7. What is polymorphism in OOP?**\n",
    "\n",
    "**Answer:** Polymorphism lets us use a common interface for different data types or objects.\n",
    "\n",
    "Example:\n",
    "```python\n",
    "for animal in [Dog(), Cat()]:\n",
    "    animal.speak()\n",
    "```\n",
    "\n",
    "Polymorphism lets us use the same method name on different classes. Helps achieve loose coupling in code."
   ]
  },
  {
   "cell_type": "markdown",
   "id": "faa33bb7",
   "metadata": {},
   "source": [
    "**Q8. How is encapsulation achieved in Python?**\n",
    "\n",
    "**Answer:** Encapsulation is done using private variables (`_var`, `__var`) and public methods to interact with them.\n",
    "\n",
    "_Example:_ Use `self.__balance` as a private variable and provide `get_balance()` method to access it."
   ]
  },
  {
   "cell_type": "markdown",
   "id": "58016ca1",
   "metadata": {},
   "source": [
    "**Q9. What is a constructor in Python?**\n",
    "\n",
    "**Answer:** `__init__` is the constructor used to initialize objects.\n",
    "\n",
    "Example:\n",
    "```python\n",
    "class A:\n",
    "    def __init__(self, x): self.x = x\n",
    "```\n",
    "\n",
    "Python uses `__init__()` as the constructor. It runs automatically when an object is instantiated."
   ]
  },
  {
   "cell_type": "markdown",
   "id": "a744feca",
   "metadata": {},
   "source": [
    "**Q10. What are class and static methods in Python?**\n",
    "\n",
    "**Answer:** `@classmethod` receives the class (`cls`), `@staticmethod` behaves like a normal function inside the class."
   ]
  },
  {
   "cell_type": "markdown",
   "id": "9d530736",
   "metadata": {},
   "source": [
    "**Q11. What is method overloading in Python?**\n",
    "\n",
    "**Answer:** Python doesn't support method overloading by default. It can be mimicked using default or variable arguments."
   ]
  },
  {
   "cell_type": "markdown",
   "id": "7b75b2a1",
   "metadata": {},
   "source": [
    "**Q12. What is method overriding in OOP?**\n",
    "\n",
    "**Answer:** Subclasses redefine methods of a parent class.\n",
    "\n",
    "Example:\n",
    "```python\n",
    "class A: def hello(self): print('Hi')\n",
    "class B(A): def hello(self): print('Hello')\n",
    "```"
   ]
  },
  {
   "cell_type": "markdown",
   "id": "eee8682e",
   "metadata": {},
   "source": [
    "**Q13. What is a property decorator in Python?**\n",
    "\n",
    "**Answer:** `@property` lets you define getter methods accessed like attributes.\n",
    "\n",
    "Example:\n",
    "```python\n",
    "@property\n",
    "def name(self): return self._name\n",
    "```"
   ]
  },
  {
   "cell_type": "markdown",
   "id": "d93cb61b",
   "metadata": {},
   "source": [
    "**Q14. Why is polymorphism important in OOP?**\n",
    "\n",
    "**Answer:** It enhances flexibility, enabling code to handle objects of different classes with a uniform interface.\n",
    "\n",
    "It helps in handling different object types with the same code, leading to cleaner and extensible designs."
   ]
  },
  {
   "cell_type": "markdown",
   "id": "e3d2fc2f",
   "metadata": {},
   "source": [
    "**Q15. What is an abstract class in Python?**\n",
    "\n",
    "**Answer:** Defined using `ABC` module; can't be instantiated and contains abstract methods to be implemented by subclasses.\n",
    "\n",
    "Abstract classes act as a blueprint and enforce method implementation in child classes using `@abstractmethod`."
   ]
  },
  {
   "cell_type": "markdown",
   "id": "4b23f71a",
   "metadata": {},
   "source": [
    "**Q16. What are the advantages of OOP?**\n",
    "\n",
    "**Answer:** - Modularity\n",
    "- Reusability\n",
    "- Encapsulation\n",
    "- Maintainability\n",
    "- Clear structure"
   ]
  },
  {
   "cell_type": "markdown",
   "id": "3afac11d",
   "metadata": {},
   "source": [
    "**Q17. What is the difference between a class variable and an instance variable?**\n",
    "\n",
    "**Answer:** Class variable is shared across instances; instance variable is specific to each object.\n",
    "\n",
    "_Class Variable:_ Shared by all instances.\n",
    "_Instance Variable:_ Unique to each instance.\n",
    "_Example:_ `Employee.company_name` vs. `self.name`"
   ]
  },
  {
   "cell_type": "markdown",
   "id": "0485742a",
   "metadata": {},
   "source": [
    "**Q18. What is multiple inheritance in Python?**\n",
    "\n",
    "**Answer:** A class inherits from multiple base classes.\n",
    "\n",
    "Example:\n",
    "```python\n",
    "class A: pass\n",
    "class B: pass\n",
    "class C(A, B): pass\n",
    "```\n",
    "\n",
    "This is useful when combining behavior from multiple classes, but can lead to complexity (resolved by MRO in Python)."
   ]
  },
  {
   "cell_type": "markdown",
   "id": "7ef29e6a",
   "metadata": {},
   "source": [
    "**Q19. Explain the purpose of `__str__` and `__repr__` methods in Python.**\n",
    "\n",
    "**Answer:** `__str__` gives user-friendly output, `__repr__` is for developers and debugging."
   ]
  },
  {
   "cell_type": "markdown",
   "id": "a47b83c0",
   "metadata": {},
   "source": [
    "**Q20. What is the significance of the `super()` function in Python?**\n",
    "\n",
    "**Answer:** `super()` calls methods from the parent class, especially useful in inheritance.\n",
    "\n",
    "Commonly used when extending methods in child classes that also rely on the parent implementation."
   ]
  },
  {
   "cell_type": "markdown",
   "id": "dc211730",
   "metadata": {},
   "source": [
    "**Q21. What is the significance of the `__del__` method in Python?**\n",
    "\n",
    "**Answer:** `__del__` is called when an object is deleted. It helps in cleanup, though its use is discouraged due to GC behavior."
   ]
  },
  {
   "cell_type": "markdown",
   "id": "cf31c58b",
   "metadata": {},
   "source": [
    "**Q22. What is the difference between `@staticmethod` and `@classmethod` in Python?**\n",
    "\n",
    "**Answer:** `@staticmethod` has no access to class or instance data. `@classmethod` gets the class (`cls`) as its first argument.\n",
    "\n",
    "Use `@classmethod` for factory methods, and `@staticmethod` when functionality is logically part of the class but doesn’t access class or instance data."
   ]
  },
  {
   "cell_type": "markdown",
   "id": "ca965e79",
   "metadata": {},
   "source": [
    "**Q23. How does polymorphism work in Python with inheritance?**\n",
    "\n",
    "**Answer:** Subclasses override base class methods, enabling dynamic method resolution."
   ]
  },
  {
   "cell_type": "markdown",
   "id": "55205188",
   "metadata": {},
   "source": [
    "**Q24. What is method chaining in Python OOP?**\n",
    "\n",
    "**Answer:** Calling multiple methods on an object sequentially by returning `self`.\n",
    "\n",
    "Example:\n",
    "```python\n",
    "obj.set_name('A').set_age(20)\n",
    "```\n",
    "\n",
    "_Example:_\n",
    "```python\n",
    "user.set_name(\"A\").set_age(25).set_email(\"a@example.com\")\n",
    "```"
   ]
  },
  {
   "cell_type": "markdown",
   "id": "5372ebcf",
   "metadata": {},
   "source": [
    "**Q25. What is the purpose of the `__call__` method in Python?**\n",
    "\n",
    "**Answer:** It allows an object to be called like a function.\n",
    "\n",
    "Example:\n",
    "```python\n",
    "class A: def __call__(self): print('called')\n",
    "a = A(); a()\n",
    "```"
   ]
  },
  {
   "cell_type": "markdown",
   "id": "5601dd2e",
   "metadata": {},
   "source": [
    "## Practical Questions"
   ]
  },
  {
   "cell_type": "markdown",
   "id": "c1558e3b",
   "metadata": {},
   "source": [
    "### Q1. Create a parent class Animal with a method speak() that prints a generic message. Create a child class Dog that overrides the speak() method to print \"Bark!\"."
   ]
  },
  {
   "cell_type": "code",
   "execution_count": 55,
   "id": "aea5be44",
   "metadata": {},
   "outputs": [
    {
     "name": "stdout",
     "output_type": "stream",
     "text": [
      "Some generic animal sound.\n",
      "Bark!\n"
     ]
    }
   ],
   "source": [
    "class Animal:\n",
    "    def speak(self):\n",
    "        print(\"Some generic animal sound.\")\n",
    "\n",
    "class Dog(Animal):\n",
    "    def speak(self):\n",
    "        print(\"Bark!\")\n",
    "\n",
    "# Example\n",
    "a = Animal()\n",
    "a.speak()  # Output: Some generic animal sound.\n",
    "\n",
    "d = Dog()\n",
    "d.speak()  # Output: Bark!\n"
   ]
  },
  {
   "cell_type": "markdown",
   "id": "ac1bdb04",
   "metadata": {},
   "source": [
    "### Q2. Write a program to create an abstract class Shape with a method area(). Derive classes Circle and Rectangle from it and implement the area() method in both."
   ]
  },
  {
   "cell_type": "code",
   "execution_count": 56,
   "id": "fffebb54",
   "metadata": {},
   "outputs": [
    {
     "name": "stdout",
     "output_type": "stream",
     "text": [
      "Circle Area: 50.27\n",
      "Rectangle Area: 15\n"
     ]
    }
   ],
   "source": [
    "from abc import ABC, abstractmethod\n",
    "import math\n",
    "\n",
    "class Shape(ABC):\n",
    "    @abstractmethod\n",
    "    def area(self):\n",
    "        pass\n",
    "\n",
    "class Circle(Shape):\n",
    "    def __init__(self, radius):\n",
    "        self.radius = radius\n",
    "\n",
    "    def area(self):\n",
    "        return round(math.pi * self.radius ** 2, 2)\n",
    "\n",
    "class Rectangle(Shape):\n",
    "    def __init__(self, length, width):\n",
    "        self.length = length\n",
    "        self.width = width\n",
    "\n",
    "    def area(self):\n",
    "        return self.length * self.width\n",
    "\n",
    "# Test\n",
    "c = Circle(4)\n",
    "r = Rectangle(5, 3)\n",
    "print(\"Circle Area:\", c.area())\n",
    "print(\"Rectangle Area:\", r.area())\n"
   ]
  },
  {
   "cell_type": "markdown",
   "id": "adfbe517",
   "metadata": {},
   "source": [
    "### Q3. Implement a multi-level inheritance scenario where a class Vehicle has an attribute type. Derive a class Car and further derive a class ElectricCar that adds a battery attribute."
   ]
  },
  {
   "cell_type": "code",
   "execution_count": 57,
   "id": "16d534f7",
   "metadata": {},
   "outputs": [
    {
     "name": "stdout",
     "output_type": "stream",
     "text": [
      "Tesla Model S (Electric) - Battery: 100 kWh\n"
     ]
    }
   ],
   "source": [
    "class Vehicle:\n",
    "    def __init__(self, type_):\n",
    "        self.type = type_\n",
    "\n",
    "class Car(Vehicle):\n",
    "    def __init__(self, type_, model):\n",
    "        super().__init__(type_)\n",
    "        self.model = model\n",
    "\n",
    "class ElectricCar(Car):\n",
    "    def __init__(self, type_, model, battery_capacity):\n",
    "        super().__init__(type_, model)\n",
    "        self.battery_capacity = battery_capacity\n",
    "\n",
    "    def display(self):\n",
    "        print(f\"{self.model} ({self.type}) - Battery: {self.battery_capacity} kWh\")\n",
    "\n",
    "# Test\n",
    "ecar = ElectricCar(\"Electric\", \"Tesla Model S\", 100)\n",
    "ecar.display()\n"
   ]
  },
  {
   "cell_type": "markdown",
   "id": "b2a430fa",
   "metadata": {},
   "source": [
    "### Q4. Demonstrate polymorphism by creating a base class Bird with a method fly(). Create two derived classes Sparrow and Penguin that override the fly() method."
   ]
  },
  {
   "cell_type": "code",
   "execution_count": 58,
   "id": "a7a51198",
   "metadata": {},
   "outputs": [
    {
     "name": "stdout",
     "output_type": "stream",
     "text": [
      "Sparrow soars in the sky.\n",
      "Penguins cannot fly but swim instead.\n"
     ]
    }
   ],
   "source": [
    "class Bird:\n",
    "    def fly(self):\n",
    "        print(\"Birds can fly.\")\n",
    "\n",
    "class Sparrow(Bird):\n",
    "    def fly(self):\n",
    "        print(\"Sparrow soars in the sky.\")\n",
    "\n",
    "class Penguin(Bird):\n",
    "    def fly(self):\n",
    "        print(\"Penguins cannot fly but swim instead.\")\n",
    "\n",
    "# Polymorphism in action\n",
    "for bird in [Sparrow(), Penguin()]:\n",
    "    bird.fly()\n"
   ]
  },
  {
   "cell_type": "markdown",
   "id": "35be6d2e",
   "metadata": {},
   "source": [
    "### Q5. Write a program to demonstrate encapsulation by creating a class BankAccount with private attributes balance and methods to deposit, withdraw, and check balance."
   ]
  },
  {
   "cell_type": "code",
   "execution_count": 59,
   "id": "bdc145aa",
   "metadata": {},
   "outputs": [
    {
     "name": "stdout",
     "output_type": "stream",
     "text": [
      "Balance: 1300\n"
     ]
    }
   ],
   "source": [
    "class BankAccount:\n",
    "    def __init__(self, owner, balance=0):\n",
    "        self.__balance = balance\n",
    "        self.owner = owner\n",
    "\n",
    "    def deposit(self, amount):\n",
    "        if amount > 0:\n",
    "            self.__balance += amount\n",
    "\n",
    "    def withdraw(self, amount):\n",
    "        if 0 < amount <= self.__balance:\n",
    "            self.__balance -= amount\n",
    "\n",
    "    def get_balance(self):\n",
    "        return self.__balance\n",
    "\n",
    "# Test\n",
    "acc = BankAccount(\"Alice\", 1000)\n",
    "acc.deposit(500)\n",
    "acc.withdraw(200)\n",
    "print(\"Balance:\", acc.get_balance())\n"
   ]
  },
  {
   "cell_type": "markdown",
   "id": "c20f2c12",
   "metadata": {},
   "source": [
    "### Q6. Demonstrate runtime polymorphism using a method play() in a base class Instrument. Derive classes Guitar and Piano that implement their own version of play()."
   ]
  },
  {
   "cell_type": "code",
   "execution_count": 60,
   "id": "e02cb050",
   "metadata": {},
   "outputs": [
    {
     "name": "stdout",
     "output_type": "stream",
     "text": [
      "Strumming the guitar.\n",
      "Tapping piano keys.\n"
     ]
    }
   ],
   "source": [
    "class Instrument:\n",
    "    def play(self):\n",
    "        print(\"Playing an instrument.\")\n",
    "\n",
    "class Guitar(Instrument):\n",
    "    def play(self):\n",
    "        print(\"Strumming the guitar.\")\n",
    "\n",
    "class Piano(Instrument):\n",
    "    def play(self):\n",
    "        print(\"Tapping piano keys.\")\n",
    "\n",
    "# Demonstrate runtime polymorphism\n",
    "for inst in [Guitar(), Piano()]:\n",
    "    inst.play()\n"
   ]
  },
  {
   "cell_type": "markdown",
   "id": "07933918",
   "metadata": {},
   "source": [
    "### Q7. Create a class MathOperations with a class method add_numbers() to add two numbers and a static method subtract_numbers() to subtract two numbers."
   ]
  },
  {
   "cell_type": "code",
   "execution_count": 61,
   "id": "3de9103a",
   "metadata": {},
   "outputs": [
    {
     "name": "stdout",
     "output_type": "stream",
     "text": [
      "Addition: 15\n",
      "Subtraction: 5\n"
     ]
    }
   ],
   "source": [
    "class MathOperations:\n",
    "    @classmethod\n",
    "    def add_numbers(cls, a, b):\n",
    "        return a + b\n",
    "\n",
    "    @staticmethod\n",
    "    def subtract_numbers(a, b):\n",
    "        return a - b\n",
    "\n",
    "# Test\n",
    "print(\"Addition:\", MathOperations.add_numbers(10, 5))\n",
    "print(\"Subtraction:\", MathOperations.subtract_numbers(10, 5))\n"
   ]
  },
  {
   "cell_type": "markdown",
   "id": "1ba12eed",
   "metadata": {},
   "source": [
    "### Q8. Implement a class Person with a class method to count the total number of persons created."
   ]
  },
  {
   "cell_type": "code",
   "execution_count": 62,
   "id": "54b6e6c3",
   "metadata": {},
   "outputs": [
    {
     "name": "stdout",
     "output_type": "stream",
     "text": [
      "Total Persons: 2\n"
     ]
    }
   ],
   "source": [
    "class Person:\n",
    "    count = 0\n",
    "\n",
    "    def __init__(self, name):\n",
    "        self.name = name\n",
    "        Person.count += 1\n",
    "\n",
    "    @classmethod\n",
    "    def total_persons(cls):\n",
    "        return cls.count\n",
    "\n",
    "# Create instances\n",
    "p1 = Person(\"Alice\")\n",
    "p2 = Person(\"Bob\")\n",
    "print(\"Total Persons:\", Person.total_persons())\n"
   ]
  },
  {
   "cell_type": "markdown",
   "id": "e1836c04",
   "metadata": {},
   "source": [
    "### Q9. Write a class Fraction with attributes numerator and denominator. Override the str method to display the fraction as \"numerator/denominator\"."
   ]
  },
  {
   "cell_type": "code",
   "execution_count": 63,
   "id": "87cd6cbd",
   "metadata": {},
   "outputs": [
    {
     "name": "stdout",
     "output_type": "stream",
     "text": [
      "3/4\n"
     ]
    }
   ],
   "source": [
    "class Fraction:\n",
    "    def __init__(self, numerator, denominator):\n",
    "        self.numerator = numerator\n",
    "        self.denominator = denominator\n",
    "\n",
    "    def __str__(self):\n",
    "        return f\"{self.numerator}/{self.denominator}\"\n",
    "\n",
    "# Test\n",
    "f = Fraction(3, 4)\n",
    "print(f)\n"
   ]
  },
  {
   "cell_type": "markdown",
   "id": "97434d11",
   "metadata": {},
   "source": [
    "### Q10. Demonstrate operator overloading by creating a class Vector and overriding the add method to add two vectors."
   ]
  },
  {
   "cell_type": "code",
   "execution_count": 64,
   "id": "6113d64c",
   "metadata": {},
   "outputs": [
    {
     "name": "stdout",
     "output_type": "stream",
     "text": [
      "Vector(3, 4)\n"
     ]
    }
   ],
   "source": [
    "class Vector:\n",
    "    def __init__(self, x, y):\n",
    "        self.x = x\n",
    "        self.y = y\n",
    "\n",
    "    def __add__(self, other):\n",
    "        return Vector(self.x + other.x, self.y + other.y)\n",
    "\n",
    "    def __str__(self):\n",
    "        return f\"Vector({self.x}, {self.y})\"\n",
    "\n",
    "# Test\n",
    "v1 = Vector(2, 3)\n",
    "v2 = Vector(1, 1)\n",
    "print(v1 + v2)\n"
   ]
  },
  {
   "cell_type": "markdown",
   "id": "416e1467",
   "metadata": {},
   "source": [
    "### Q11. Create a class Person with attributes name and age. Add a method greet() that prints \"Hello, my name is {name} and I am {age} years old.\""
   ]
  },
  {
   "cell_type": "code",
   "execution_count": 65,
   "id": "57fc9e58",
   "metadata": {},
   "outputs": [
    {
     "name": "stdout",
     "output_type": "stream",
     "text": [
      "Hello, my name is John and I am 28 years old.\n"
     ]
    }
   ],
   "source": [
    "class Person:\n",
    "    def __init__(self, name, age):\n",
    "        self.name = name\n",
    "        self.age = age\n",
    "\n",
    "    def greet(self):\n",
    "        print(f\"Hello, my name is {self.name} and I am {self.age} years old.\")\n",
    "\n",
    "# Test\n",
    "p = Person(\"John\", 28)\n",
    "p.greet()\n"
   ]
  },
  {
   "cell_type": "markdown",
   "id": "5f6e762a",
   "metadata": {},
   "source": [
    "### Q12. Implement a class Student with attributes name and grades. Create a method average_grade() to compute the average of the grades."
   ]
  },
  {
   "cell_type": "code",
   "execution_count": 66,
   "id": "5d36cd86",
   "metadata": {},
   "outputs": [
    {
     "name": "stdout",
     "output_type": "stream",
     "text": [
      "Average Grade: 88.75\n"
     ]
    }
   ],
   "source": [
    "class Student:\n",
    "    def __init__(self, name, grades):\n",
    "        self.name = name\n",
    "        self.grades = grades\n",
    "\n",
    "    def average_grade(self):\n",
    "        return sum(self.grades) / len(self.grades)\n",
    "\n",
    "# Test\n",
    "s = Student(\"Anjali\", [85, 90, 88, 92])\n",
    "print(\"Average Grade:\", s.average_grade())\n"
   ]
  },
  {
   "cell_type": "markdown",
   "id": "2be20f74",
   "metadata": {},
   "source": [
    "### Q13. Create a class Rectangle with methods set_dimensions() to set the dimensions and area() to calculate the area."
   ]
  },
  {
   "cell_type": "code",
   "execution_count": 67,
   "id": "f5a6fb68",
   "metadata": {},
   "outputs": [
    {
     "name": "stdout",
     "output_type": "stream",
     "text": [
      "Area: 50\n"
     ]
    }
   ],
   "source": [
    "class Rectangle:\n",
    "    def __init__(self):\n",
    "        self.length = 0\n",
    "        self.width = 0\n",
    "\n",
    "    def set_dimensions(self, length, width):\n",
    "        self.length = length\n",
    "        self.width = width\n",
    "\n",
    "    def area(self):\n",
    "        return self.length * self.width\n",
    "\n",
    "# Test\n",
    "r = Rectangle()\n",
    "r.set_dimensions(5, 10)\n",
    "print(\"Area:\", r.area())\n"
   ]
  },
  {
   "cell_type": "markdown",
   "id": "48738e52",
   "metadata": {},
   "source": [
    "### Q14. Create a class Employee with a method calculate_salary() that computes the salary based on hours worked and hourly rate. Create a derived class Manager that adds a bonus to the salary."
   ]
  },
  {
   "cell_type": "code",
   "execution_count": 68,
   "id": "f06abd40",
   "metadata": {},
   "outputs": [
    {
     "name": "stdout",
     "output_type": "stream",
     "text": [
      "Manager Salary: 9000\n"
     ]
    }
   ],
   "source": [
    "class Employee:\n",
    "    def __init__(self, hours, rate):\n",
    "        self.hours = hours\n",
    "        self.rate = rate\n",
    "\n",
    "    def calculate_salary(self):\n",
    "        return self.hours * self.rate\n",
    "\n",
    "class Manager(Employee):\n",
    "    def __init__(self, hours, rate, bonus):\n",
    "        super().__init__(hours, rate)\n",
    "        self.bonus = bonus\n",
    "\n",
    "    def calculate_salary(self):\n",
    "        return super().calculate_salary() + self.bonus\n",
    "\n",
    "# Test\n",
    "m = Manager(160, 50, 1000)\n",
    "print(\"Manager Salary:\", m.calculate_salary())\n"
   ]
  },
  {
   "cell_type": "markdown",
   "id": "bf4b80e0",
   "metadata": {},
   "source": [
    "### Q15. Create a class Product with attributes name, price, and quantity. Implement a method total_price() that calculates the total price of the product."
   ]
  },
  {
   "cell_type": "code",
   "execution_count": 69,
   "id": "c8acb733",
   "metadata": {},
   "outputs": [
    {
     "name": "stdout",
     "output_type": "stream",
     "text": [
      "Total Price: 150000\n"
     ]
    }
   ],
   "source": [
    "class Product:\n",
    "    def __init__(self, name, price, quantity):\n",
    "        self.name = name\n",
    "        self.price = price\n",
    "        self.quantity = quantity\n",
    "\n",
    "    def total_price(self):\n",
    "        return self.price * self.quantity\n",
    "\n",
    "# Test\n",
    "item = Product(\"Laptop\", 75000, 2)\n",
    "print(\"Total Price:\", item.total_price())\n"
   ]
  },
  {
   "cell_type": "markdown",
   "id": "a9302f2c",
   "metadata": {},
   "source": [
    "### Q16. Create a class Animal with an abstract method sound(). Create two derived classes Cow and Sheep that implement the sound() method."
   ]
  },
  {
   "cell_type": "code",
   "execution_count": 70,
   "id": "c9bd830c",
   "metadata": {},
   "outputs": [
    {
     "name": "stdout",
     "output_type": "stream",
     "text": [
      "Moo\n",
      "Baa\n"
     ]
    }
   ],
   "source": [
    "from abc import ABC, abstractmethod\n",
    "\n",
    "class Animal(ABC):\n",
    "    @abstractmethod\n",
    "    def sound(self):\n",
    "        pass\n",
    "\n",
    "class Cow(Animal):\n",
    "    def sound(self):\n",
    "        print(\"Moo\")\n",
    "\n",
    "class Sheep(Animal):\n",
    "    def sound(self):\n",
    "        print(\"Baa\")\n",
    "\n",
    "# Test\n",
    "c = Cow()\n",
    "s = Sheep()\n",
    "c.sound()\n",
    "s.sound()\n"
   ]
  },
  {
   "cell_type": "markdown",
   "id": "bc38d85b",
   "metadata": {},
   "source": [
    "### Q17. Create a class Book with attributes title, author, and year_published. Add a method get_book_info() that returns a formatted string with the book's details."
   ]
  },
  {
   "cell_type": "code",
   "execution_count": 71,
   "id": "66fd1f92",
   "metadata": {},
   "outputs": [
    {
     "name": "stdout",
     "output_type": "stream",
     "text": [
      "'The Alchemist' by Paulo Coelho (1988)\n"
     ]
    }
   ],
   "source": [
    "class Book:\n",
    "    def __init__(self, title, author, year_published):\n",
    "        self.title = title\n",
    "        self.author = author\n",
    "        self.year_published = year_published\n",
    "\n",
    "    def get_book_info(self):\n",
    "        return f\"'{self.title}' by {self.author} ({self.year_published})\"\n",
    "\n",
    "# Test\n",
    "book = Book(\"The Alchemist\", \"Paulo Coelho\", 1988)\n",
    "print(book.get_book_info())\n"
   ]
  },
  {
   "cell_type": "markdown",
   "id": "c8c0a766",
   "metadata": {},
   "source": [
    "### Q18. Create a class House with attributes address and price. Create a derived class Mansion that adds an attribute number_of_rooms."
   ]
  },
  {
   "cell_type": "code",
   "execution_count": 72,
   "id": "20285d9d",
   "metadata": {},
   "outputs": [
    {
     "name": "stdout",
     "output_type": "stream",
     "text": [
      "Mansion at Beverly Hills with 12 rooms, priced at ₹50000000\n"
     ]
    }
   ],
   "source": [
    "class House:\n",
    "    def __init__(self, address, price):\n",
    "        self.address = address\n",
    "        self.price = price\n",
    "\n",
    "class Mansion(House):\n",
    "    def __init__(self, address, price, number_of_rooms):\n",
    "        super().__init__(address, price)\n",
    "        self.number_of_rooms = number_of_rooms\n",
    "\n",
    "    def describe(self):\n",
    "        print(f\"Mansion at {self.address} with {self.number_of_rooms} rooms, priced at ₹{self.price}\")\n",
    "\n",
    "# Test\n",
    "mansion = Mansion(\"Beverly Hills\", 50000000, 12)\n",
    "mansion.describe()\n"
   ]
  }
 ],
 "metadata": {
  "kernelspec": {
   "display_name": "Python 3",
   "language": "python",
   "name": "python3"
  },
  "language_info": {
   "codemirror_mode": {
    "name": "ipython",
    "version": 3
   },
   "file_extension": ".py",
   "mimetype": "text/x-python",
   "name": "python",
   "nbconvert_exporter": "python",
   "pygments_lexer": "ipython3",
   "version": "3.13.2"
  }
 },
 "nbformat": 4,
 "nbformat_minor": 5
}
