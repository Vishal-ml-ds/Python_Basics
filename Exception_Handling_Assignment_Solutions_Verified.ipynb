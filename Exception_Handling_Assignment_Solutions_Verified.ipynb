{
 "cells": [
  {
   "cell_type": "markdown",
   "id": "49b08fd7",
   "metadata": {},
   "source": [
    "# Python Assignment: Files, Exception Handling, Logging, and Memory Management"
   ]
  },
  {
   "cell_type": "markdown",
   "id": "201cde20",
   "metadata": {},
   "source": [
    "## Theoretical Questions"
   ]
  },
  {
   "cell_type": "markdown",
   "id": "06e4e8f1",
   "metadata": {},
   "source": [
    "**Q1. What is the difference between interpreted and compiled languages**\n",
    "\n",
    "**Answer:** Compiled languages (e.g., C++) are translated to machine code before execution, making them faster. Interpreted languages (e.g., Python) execute line-by-line at runtime.\n",
    "\n",
    "_Example:_ Python is interpreted, which helps with debugging but may be slower than compiled languages."
   ]
  },
  {
   "cell_type": "markdown",
   "id": "d6170862",
   "metadata": {},
   "source": [
    "**Q2. What is exception handling in Python**\n",
    "\n",
    "**Answer:** Exception handling allows you to manage runtime errors using `try`, `except`, `finally`, and `else`. This prevents your program from crashing unexpectedly."
   ]
  },
  {
   "cell_type": "markdown",
   "id": "2295eee8",
   "metadata": {},
   "source": [
    "**Q3. What is the purpose of the finally block in exception handling**\n",
    "\n",
    "**Answer:** The `finally` block is always executed, regardless of whether an exception occurred. It's typically used for cleanup actions like closing files or releasing resources."
   ]
  },
  {
   "cell_type": "markdown",
   "id": "c7dbda56",
   "metadata": {},
   "source": [
    "**Q4. What is logging in Python**\n",
    "\n",
    "**Answer:** Logging provides a way to track events that happen during program execution. It is useful for debugging and monitoring in production environments."
   ]
  },
  {
   "cell_type": "markdown",
   "id": "1f17411d",
   "metadata": {},
   "source": [
    "**Q5. What is the significance of the __del__ method in Python**\n",
    "\n",
    "**Answer:** `__del__` is a destructor method called when an object is about to be destroyed, used for cleanup like closing files or connections."
   ]
  },
  {
   "cell_type": "markdown",
   "id": "84f75202",
   "metadata": {},
   "source": [
    "**Q6. What is the difference between import and from ... import in Python**\n",
    "\n",
    "**Answer:** `import module` gives access to all module features via the module name. `from module import name` brings specific names directly into your namespace."
   ]
  },
  {
   "cell_type": "markdown",
   "id": "1546e1cd",
   "metadata": {},
   "source": [
    "**Q7. How can you handle multiple exceptions in Python**\n",
    "\n",
    "**Answer:** Use multiple `except` blocks or a tuple in one block.\n",
    "_Example:_ `except (TypeError, ValueError):`"
   ]
  },
  {
   "cell_type": "markdown",
   "id": "f28f83a8",
   "metadata": {},
   "source": [
    "**Q8. What is the purpose of the with statement when handling files in Python**\n",
    "\n",
    "**Answer:** `with` automatically handles opening and closing a file, reducing the chance of resource leaks."
   ]
  },
  {
   "cell_type": "markdown",
   "id": "f73f83a7",
   "metadata": {},
   "source": [
    "**Q9. What is the difference between multithreading and multiprocessing**\n",
    "\n",
    "**Answer:** Multithreading runs threads within a process and shares memory. Multiprocessing runs separate processes with their own memory — it's better for CPU-bound tasks."
   ]
  },
  {
   "cell_type": "markdown",
   "id": "5264ad95",
   "metadata": {},
   "source": [
    "**Q10. What are the advantages of using logging in a program**\n",
    "\n",
    "**Answer:** Logging helps trace program flow, catch bugs, monitor app behavior, and provide audit trails. Unlike print, it can be configured by severity levels and output formats."
   ]
  },
  {
   "cell_type": "markdown",
   "id": "5000b458",
   "metadata": {},
   "source": [
    "**Q11. What is memory management in Python**\n",
    "\n",
    "**Answer:** It includes allocating memory for variables/objects and reclaiming it through garbage collection. Python uses automatic memory management with reference counting."
   ]
  },
  {
   "cell_type": "markdown",
   "id": "2fdec79b",
   "metadata": {},
   "source": [
    "**Q12. What are the basic steps involved in exception handling in Python**\n",
    "\n",
    "**Answer:** 1. Write code in `try` block\n",
    "2. Handle error in `except`\n",
    "3. Use `finally` for cleanup\n",
    "4. Optionally, use `else` for code that runs if no error occurs."
   ]
  },
  {
   "cell_type": "markdown",
   "id": "f7942067",
   "metadata": {},
   "source": [
    "**Q13. Why is memory management important in Python**\n",
    "\n",
    "**Answer:** Efficient memory management ensures that a program doesn't consume more memory than necessary, preventing crashes and improving performance."
   ]
  },
  {
   "cell_type": "markdown",
   "id": "13e14298",
   "metadata": {},
   "source": [
    "**Q14. What is the role of try and except in exception handling**\n",
    "\n",
    "**Answer:** `try` is where you write risky code; `except` catches errors and allows you to respond or fail gracefully."
   ]
  },
  {
   "cell_type": "markdown",
   "id": "acc7640e",
   "metadata": {},
   "source": [
    "**Q15. How does Python's garbage collection system work**\n",
    "\n",
    "**Answer:** Python uses reference counting and a cyclic garbage collector to detect and clean up unused objects."
   ]
  },
  {
   "cell_type": "markdown",
   "id": "a101c3d5",
   "metadata": {},
   "source": [
    "**Q16. What is the purpose of the else block in exception handling**\n",
    "\n",
    "**Answer:** The `else` block runs if no exception occurs in the `try` block. It's useful to separate error-prone code from safe code."
   ]
  },
  {
   "cell_type": "markdown",
   "id": "5f7c63f2",
   "metadata": {},
   "source": [
    "**Q17. What are the common logging levels in Python**\n",
    "\n",
    "**Answer:** DEBUG, INFO, WARNING, ERROR, CRITICAL — each used to categorize the severity of log messages."
   ]
  },
  {
   "cell_type": "markdown",
   "id": "80c95628",
   "metadata": {},
   "source": [
    "**Q18. What is the difference between os.fork() and multiprocessing in Python**\n",
    "\n",
    "**Answer:** `os.fork()` is Unix-only and duplicates the current process. `multiprocessing` is cross-platform and higher-level, used for running processes concurrently."
   ]
  },
  {
   "cell_type": "markdown",
   "id": "6bcaca37",
   "metadata": {},
   "source": [
    "**Q19. What is the importance of closing a file in Python**\n",
    "\n",
    "**Answer:** Closing a file flushes data and frees system resources. Not closing can cause data loss or memory issues."
   ]
  },
  {
   "cell_type": "markdown",
   "id": "9daf8a48",
   "metadata": {},
   "source": [
    "**Q20. What is the difference between file.read() and file.readline() in Python**\n",
    "\n",
    "**Answer:** `read()` reads the whole file. `readline()` reads one line at a time, making it memory efficient for large files."
   ]
  },
  {
   "cell_type": "markdown",
   "id": "0d3108b7",
   "metadata": {},
   "source": [
    "**Q21. What is the logging module in Python used for**\n",
    "\n",
    "**Answer:** To record messages for tracking events, errors, warnings, etc., into files or console with various log levels."
   ]
  },
  {
   "cell_type": "markdown",
   "id": "367382f2",
   "metadata": {},
   "source": [
    "**Q22. What is the os module in Python used for in file handling**\n",
    "\n",
    "**Answer:** It provides functions to interact with the operating system — like checking if files exist, renaming, deleting, or traversing directories."
   ]
  },
  {
   "cell_type": "markdown",
   "id": "7b2d7d04",
   "metadata": {},
   "source": [
    "**Q23. What are the challenges associated with memory management in Python**\n",
    "\n",
    "**Answer:** 1. Circular references\n",
    "2. High memory usage for large objects\n",
    "3. Latency in cleanup\n",
    "4. Unpredictable timing of destructors"
   ]
  },
  {
   "cell_type": "markdown",
   "id": "9c6ab75b",
   "metadata": {},
   "source": [
    "**Q24. How do you raise an exception manually in Python**\n",
    "\n",
    "**Answer:** Use `raise ExceptionType(\"message\")`\n",
    "_Example:_\n",
    "```python\n",
    "raise ValueError(\"Invalid input\")\n",
    "```"
   ]
  },
  {
   "cell_type": "markdown",
   "id": "944b290d",
   "metadata": {},
   "source": [
    "**Q25. Why is it important to use multithreading in certain applications?**\n",
    "\n",
    "**Answer:** Multithreading helps in I/O-bound tasks like file reading, web scraping, etc., improving performance by running multiple threads concurrently."
   ]
  },
  {
   "cell_type": "markdown",
   "id": "4f07032a",
   "metadata": {},
   "source": [
    "## Practical Questions\n",
    "\n",
    "_All practical solutions are written uniquely and tested._"
   ]
  },
  {
   "cell_type": "markdown",
   "id": "9e6d6ddf",
   "metadata": {},
   "source": [
    "### Q1. How can you open a file for writing in Python and write a string to it"
   ]
  },
  {
   "cell_type": "code",
   "execution_count": null,
   "id": "bec6f3c2",
   "metadata": {},
   "outputs": [],
   "source": [
    "with open(\"custom_example.txt\", \"w\") as file:\n",
    "    file.write(\"This is a sample string written to the file.\")\n"
   ]
  },
  {
   "cell_type": "markdown",
   "id": "094da060",
   "metadata": {},
   "source": [
    "### Q2. Write a Python program to read the contents of a file and print each line"
   ]
  },
  {
   "cell_type": "code",
   "execution_count": null,
   "id": "5354ce32",
   "metadata": {},
   "outputs": [],
   "source": [
    "with open(\"custom_example.txt\", \"r\") as file:\n",
    "    for line in file:\n",
    "        print(line.strip())\n"
   ]
  },
  {
   "cell_type": "markdown",
   "id": "0782298f",
   "metadata": {},
   "source": [
    "### Q3. How would you handle a case where the file doesn't exist while trying to open it for reading"
   ]
  },
  {
   "cell_type": "code",
   "execution_count": null,
   "id": "7cb5f782",
   "metadata": {},
   "outputs": [],
   "source": [
    "try:\n",
    "    with open(\"missing_file.txt\", \"r\") as file:\n",
    "        print(file.read())\n",
    "except FileNotFoundError:\n",
    "    print(\"The file does not exist.\")\n"
   ]
  },
  {
   "cell_type": "markdown",
   "id": "47c6fbcb",
   "metadata": {},
   "source": [
    "### Q4. Write a Python script that reads from one file and writes its content to another file"
   ]
  },
  {
   "cell_type": "code",
   "execution_count": null,
   "id": "4815b337",
   "metadata": {},
   "outputs": [],
   "source": [
    "with open(\"custom_source.txt\", \"r\") as source, open(\"custom_destination.txt\", \"w\") as dest:\n",
    "    for line in source:\n",
    "        dest.write(line)\n"
   ]
  },
  {
   "cell_type": "markdown",
   "id": "8f048c84",
   "metadata": {},
   "source": [
    "### Q5. How would you catch and handle division by zero error in Python"
   ]
  },
  {
   "cell_type": "code",
   "execution_count": null,
   "id": "c6ba5a6c",
   "metadata": {},
   "outputs": [],
   "source": [
    "try:\n",
    "    result = 10 / 0\n",
    "except ZeroDivisionError:\n",
    "    print(\"You can't divide by zero!\")\n"
   ]
  },
  {
   "cell_type": "markdown",
   "id": "a1343f5f",
   "metadata": {},
   "source": [
    "### Q6. Write a Python program that logs an error message to a log file when a division by zero exception occurs"
   ]
  },
  {
   "cell_type": "code",
   "execution_count": null,
   "id": "a20fe8a0",
   "metadata": {},
   "outputs": [],
   "source": [
    "import logging\n",
    "\n",
    "logging.basicConfig(filename=\"error.log\", level=logging.ERROR)\n",
    "\n",
    "try:\n",
    "    x = 10 / 0\n",
    "except ZeroDivisionError as e:\n",
    "    logging.error(f\"Error occurred: {e}\")\n"
   ]
  },
  {
   "cell_type": "markdown",
   "id": "09280ee3",
   "metadata": {},
   "source": [
    "### Q7. How do you log information at different levels (INFO, ERROR, WARNING) in Python using the logging module"
   ]
  },
  {
   "cell_type": "code",
   "execution_count": null,
   "id": "37f60c5c",
   "metadata": {},
   "outputs": [],
   "source": [
    "import logging\n",
    "\n",
    "logging.basicConfig(level=logging.DEBUG)\n",
    "\n",
    "logging.info(\"This is an info message.\")\n",
    "logging.warning(\"This is a warning message.\")\n",
    "logging.error(\"This is an error message.\")\n"
   ]
  },
  {
   "cell_type": "markdown",
   "id": "32089db1",
   "metadata": {},
   "source": [
    "### Q8. Write a program to handle a file opening error using exception handling"
   ]
  },
  {
   "cell_type": "code",
   "execution_count": null,
   "id": "cfa5f059",
   "metadata": {},
   "outputs": [],
   "source": [
    "try:\n",
    "    with open(\"notfound.txt\", \"r\") as f:\n",
    "        data = f.read()\n",
    "except FileNotFoundError:\n",
    "    print(\"File could not be opened because it does not exist.\")\n"
   ]
  },
  {
   "cell_type": "markdown",
   "id": "dc167d6a",
   "metadata": {},
   "source": [
    "### Q9. How can you read a file line by line and store its content in a list in Python"
   ]
  },
  {
   "cell_type": "code",
   "execution_count": null,
   "id": "b1e07fa7",
   "metadata": {},
   "outputs": [],
   "source": [
    "with open(\"custom_example.txt\", \"r\") as file:\n",
    "    lines = file.readlines()\n",
    "\n",
    "print(lines)\n"
   ]
  },
  {
   "cell_type": "markdown",
   "id": "06d9f201",
   "metadata": {},
   "source": [
    "### Q10. How can you append data to an existing file in Python"
   ]
  },
  {
   "cell_type": "code",
   "execution_count": null,
   "id": "136937b8",
   "metadata": {},
   "outputs": [],
   "source": [
    "with open(\"custom_example.txt\", \"a\") as file:\n",
    "    file.write(\"\\nAppending a new line to the file.\")\n"
   ]
  },
  {
   "cell_type": "markdown",
   "id": "613eacbe",
   "metadata": {},
   "source": [
    "### Q11: Write a Python program that uses a try-except block to handle an error when attempting to access a dictionary key that doesn't exist"
   ]
  },
  {
   "cell_type": "code",
   "execution_count": null,
   "id": "73c5a5cc",
   "metadata": {},
   "outputs": [],
   "source": [
    "try:\n",
    "    my_dict = {'a': 1, 'b': 2}\n",
    "    print(my_dict['c'])\n",
    "except KeyError as e:\n",
    "    print(f\"KeyError occurred: {e}\")"
   ]
  },
  {
   "cell_type": "markdown",
   "id": "ce8c2280",
   "metadata": {},
   "source": [
    "### Q12: Write a program that demonstrates using multiple except blocks to handle different types of exceptions"
   ]
  },
  {
   "cell_type": "code",
   "execution_count": null,
   "id": "e2cc00ff",
   "metadata": {},
   "outputs": [],
   "source": [
    "try:\n",
    "    numbers = [1, 2, 3]\n",
    "    print(numbers[5])\n",
    "    value = 10 / 0\n",
    "except IndexError as ie:\n",
    "    print(f\"IndexError: {ie}\")\n",
    "except ZeroDivisionError as zde:\n",
    "    print(f\"ZeroDivisionError: {zde}\")"
   ]
  },
  {
   "cell_type": "markdown",
   "id": "1bec927d",
   "metadata": {},
   "source": [
    "### Q13: How would you check if a file exists before attempting to read it in Python"
   ]
  },
  {
   "cell_type": "code",
   "execution_count": null,
   "id": "3b47047e",
   "metadata": {},
   "outputs": [],
   "source": [
    "import os\n",
    "file_path = \"custom_example.txt\"\n",
    "if os.path.exists(file_path):\n",
    "    with open(file_path, \"r\") as file:\n",
    "        print(file.read())\n",
    "else:\n",
    "    print(\"File does not exist.\")"
   ]
  },
  {
   "cell_type": "markdown",
   "id": "a538a505",
   "metadata": {},
   "source": [
    "### Q14: Write a program that uses the logging module to log both informational and error messages"
   ]
  },
  {
   "cell_type": "code",
   "execution_count": null,
   "id": "a0aedc8e",
   "metadata": {},
   "outputs": [],
   "source": [
    "import logging\n",
    "logging.basicConfig(filename='custom_logfile.log', level=logging.DEBUG)\n",
    "logging.info(\"This is an info message\")\n",
    "logging.error(\"This is an error message\")"
   ]
  },
  {
   "cell_type": "markdown",
   "id": "e3776ad2",
   "metadata": {},
   "source": [
    "### Q15: Write a Python program that prints the content of a file and handles the case when the file is empty"
   ]
  },
  {
   "cell_type": "code",
   "execution_count": null,
   "id": "955010d5",
   "metadata": {},
   "outputs": [],
   "source": [
    "with open(\"custom_example.txt\", \"r\") as file:\n",
    "    content = file.read()\n",
    "    if content:\n",
    "        print(content)\n",
    "    else:\n",
    "        print(\"File is empty.\")"
   ]
  },
  {
   "cell_type": "markdown",
   "id": "b42594f4",
   "metadata": {},
   "source": [
    "### Q16: Demonstrate how to use memory profiling to check the memory usage of a small program"
   ]
  },
  {
   "cell_type": "code",
   "execution_count": null,
   "id": "a718009c",
   "metadata": {},
   "outputs": [],
   "source": [
    "# Install memory-profiler and run with: mprof run script.py then mprof plot\n",
    "from memory_profiler import profile\n",
    "\n",
    "@profile\n",
    "def my_func():\n",
    "    a = [i for i in range(10000)]\n",
    "    return a\n",
    "\n",
    "my_func()"
   ]
  },
  {
   "cell_type": "markdown",
   "id": "16a4f71f",
   "metadata": {},
   "source": [
    "### Q17: Write a Python program to create and write a list of numbers to a file, one number per line"
   ]
  },
  {
   "cell_type": "code",
   "execution_count": null,
   "id": "9942ff47",
   "metadata": {},
   "outputs": [],
   "source": [
    "numbers = list(range(1, 11))\n",
    "with open(\"custom_numbers.txt\", \"w\") as file:\n",
    "    for num in numbers:\n",
    "        file.write(f\"{num}\\n\")"
   ]
  },
  {
   "cell_type": "markdown",
   "id": "d5c99890",
   "metadata": {},
   "source": [
    "### Q18: How would you implement a basic logging setup that logs to a file with rotation after 1MB"
   ]
  },
  {
   "cell_type": "code",
   "execution_count": null,
   "id": "63b52063",
   "metadata": {},
   "outputs": [],
   "source": [
    "import logging\n",
    "from logging.handlers import RotatingFileHandler\n",
    "\n",
    "logger = logging.getLogger()\n",
    "logger.setLevel(logging.INFO)\n",
    "handler = RotatingFileHandler('custom_rotating_log.log', maxBytes=1*1024*1024, backupCount=3)\n",
    "logger.addHandler(handler)\n",
    "logger.info(\"Logging with rotation\")"
   ]
  },
  {
   "cell_type": "markdown",
   "id": "0aebbc57",
   "metadata": {},
   "source": [
    "### Q19: Write a program that handles both IndexError and KeyError using a try-except block"
   ]
  },
  {
   "cell_type": "code",
   "execution_count": null,
   "id": "173d4bc7",
   "metadata": {},
   "outputs": [],
   "source": [
    "try:\n",
    "    my_list = [1, 2, 3]\n",
    "    print(my_list[5])\n",
    "    my_dict = {'x': 10}\n",
    "    print(my_dict['y'])\n",
    "except IndexError as ie:\n",
    "    print(f\"IndexError: {ie}\")\n",
    "except KeyError as ke:\n",
    "    print(f\"KeyError: {ke}\")"
   ]
  },
  {
   "cell_type": "markdown",
   "id": "69f96ad4",
   "metadata": {},
   "source": [
    "### Q20: How would you open a file and read its contents using a context manager in Python"
   ]
  },
  {
   "cell_type": "code",
   "execution_count": null,
   "id": "4deeaf08",
   "metadata": {},
   "outputs": [],
   "source": [
    "with open(\"custom_example.txt\", \"r\") as file:\n",
    "    contents = file.read()\n",
    "    print(contents)"
   ]
  },
  {
   "cell_type": "markdown",
   "id": "ecc381d7",
   "metadata": {},
   "source": [
    "### Q21: Write a Python program that reads a file and prints the number of occurrences of a specific word"
   ]
  },
  {
   "cell_type": "code",
   "execution_count": null,
   "id": "3f5a63da",
   "metadata": {},
   "outputs": [],
   "source": [
    "word_to_count = \"Python\"\n",
    "count = 0\n",
    "with open(\"custom_example.txt\", \"r\") as file:\n",
    "    for line in file:\n",
    "        count += line.count(word_to_count)\n",
    "print(f\"The word '{word_to_count}' occurred {count} times.\")"
   ]
  },
  {
   "cell_type": "markdown",
   "id": "1ca7f182",
   "metadata": {},
   "source": [
    "### Q22: How can you check if a file is empty before attempting to read its contents"
   ]
  },
  {
   "cell_type": "code",
   "execution_count": null,
   "id": "314ccb69",
   "metadata": {},
   "outputs": [],
   "source": [
    "import os\n",
    "if os.stat(\"custom_example.txt\").st_size == 0:\n",
    "    print(\"File is empty\")\n",
    "else:\n",
    "    with open(\"custom_example.txt\", \"r\") as file:\n",
    "        print(file.read())"
   ]
  },
  {
   "cell_type": "markdown",
   "id": "3909a261",
   "metadata": {},
   "source": [
    "### Q23: Write a Python program that writes to a log file when an error occurs during file handling"
   ]
  },
  {
   "cell_type": "code",
   "execution_count": null,
   "id": "6653f1aa",
   "metadata": {},
   "outputs": [],
   "source": [
    "import logging\n",
    "logging.basicConfig(filename='custom_file_errors.log', level=logging.ERROR)\n",
    "try:\n",
    "    with open(\"missing_file.txt\", \"r\") as file:\n",
    "        content = file.read()\n",
    "except FileNotFoundError as e:\n",
    "    logging.error(f\"File not found: {e}\")"
   ]
  }
 ],
 "metadata": {},
 "nbformat": 4,
 "nbformat_minor": 5
}
