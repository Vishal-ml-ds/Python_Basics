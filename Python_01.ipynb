{
  "nbformat": 4,
  "nbformat_minor": 0,
  "metadata": {
    "colab": {
      "provenance": []
    },
    "kernelspec": {
      "name": "python3",
      "display_name": "Python 3"
    },
    "language_info": {
      "name": "python"
    }
  },
  "cells": [
    {
      "cell_type": "markdown",
      "source": [
        "#Python Theory\n"
      ],
      "metadata": {
        "id": "_uA43-utLlUu"
      }
    },
    {
      "cell_type": "markdown",
      "source": [
        "1. What is Python and why is it popular?\n",
        "   - Python is a beginner-friendly programming language that's known for being readable and simple to write. It supports different programming styles and has a huge community. It’s widely used because of its large library support and flexibility.\n",
        "\n",
        "\n",
        "2. What is an interpreter in Python?\n",
        "   - An interpreter is the tool that runs Python code line by line. This makes it easier to spot and fix errors during development and is helpful when quickly testing ideas.\n",
        "\n",
        "3. What are pre-defined keywords in Python?\n",
        "   - These are special words that Python already uses for its structure and logic. You can't use them as variable names. Examples include if, else, while, for, True, None, etc.\n",
        "\n",
        "4. Can keywords be used as variable names?\n",
        "   - No, you can’t use Python keywords as variable names because they already have predefined meanings in the language and doing so would cause errors.\n",
        "\n",
        "5. What is mutability in Python?\n",
        "   - Mutability means whether or not a Python object can be changed after it's created. Lists and dictionaries are mutable, while strings and tuples are immutable.\n",
        "\n",
        "6. Why are lists mutable but tuples are immutable?\n",
        "   - Lists are designed to be flexible, so they let you modify, add, or remove elements. Tuples are meant to stay constant after creation, which helps with data safety and performance in some cases.\n",
        "\n",
        "7. What is the difference between == and is operators in Python?\n",
        "   - == checks if two values are equal in content.\n",
        "   - is checks if both values refer to the same memory location (same object).\n",
        "\n",
        "8. What are logical operators in Python?\n",
        "   - Logical operators (and, or, not) are used in conditions to combine or modify logic. They help control how your program makes decisions.\n",
        "\n",
        "9. What is type casting in Python?\n",
        "   - Type casting means converting one data type into another. Python has built-in functions like int(), float(), str() that help with this. It’s useful when handling user input or doing calculations.\n",
        "\n",
        "10. What is the difference between implicit and explicit type casting?\n",
        "   - Implicit type casting is done automatically by Python when needed.\n",
        "   - Explicit type casting is done manually using functions like int(), str(), etc.\n",
        "\n",
        "11. What is the purpose of conditional statements in Python?\n",
        "   - Conditional statements let Python programs make choices. Using if, elif, and else, we can run different blocks of code depending on certain conditions.\n",
        "\n",
        "12. How does the else statement work?\n",
        "   - The else block runs only when all previous if or elif conditions are false. It acts as a default action.\n",
        "\n",
        "13. What is the difference between for and while loops?\n",
        "   - for loops are used when you want to go through a sequence (like a list or range).\n",
        "   - while loops run as long as a condition remains true.\n",
        "\n",
        "14. Describe a scenario where a while loop is more suitable than a for loop.\n",
        "   - If you're waiting for the user to enter the correct password, and you don’t know how many tries they’ll take, a while loop is better because it keeps running until the correct input is received."
      ],
      "metadata": {
        "id": "h1FdpcdNLvDV"
      }
    },
    {
      "cell_type": "markdown",
      "source": [
        "#Python Practical"
      ],
      "metadata": {
        "id": "Jd_MKCS0gmcC"
      }
    },
    {
      "cell_type": "code",
      "source": [
        "# 1. Write a Python program that prints 'Hello World'\n",
        "print(\"Hello World\")\n"
      ],
      "metadata": {
        "colab": {
          "base_uri": "https://localhost:8080/"
        },
        "id": "oJL5azi1XeBT",
        "outputId": "93280473-ba19-4290-cc56-eb1cdea7f7e4"
      },
      "execution_count": 55,
      "outputs": [
        {
          "output_type": "stream",
          "name": "stdout",
          "text": [
            "Hello World\n"
          ]
        }
      ]
    },
    {
      "cell_type": "code",
      "source": [
        "# 2. Write a Python program that takes user input to display their name and age\n",
        "Name = input(\"Enter your name: \")\n",
        "Age = input(\"Enter your age: \")\n",
        "print(\"My name is\", Name, \"and My age is\", Age)\n"
      ],
      "metadata": {
        "colab": {
          "base_uri": "https://localhost:8080/"
        },
        "id": "Xmz-y66JXgZW",
        "outputId": "15e692ec-9551-4dd3-86cb-5986b42d4709"
      },
      "execution_count": 56,
      "outputs": [
        {
          "output_type": "stream",
          "name": "stdout",
          "text": [
            "Enter your name: Vishal Prasad\n",
            "Enter your age: 22\n",
            "My name is Vishal Prasad and My age is 22\n"
          ]
        }
      ]
    },
    {
      "cell_type": "code",
      "source": [
        "# 3. Write code to print all predefined keywords in Python using the keyword library\n",
        "import keyword\n",
        "print(keyword.kwlist)\n"
      ],
      "metadata": {
        "colab": {
          "base_uri": "https://localhost:8080/"
        },
        "id": "L5FeghW4XlIj",
        "outputId": "a2460c66-d64f-4a8d-ed3b-156a2696c0ff"
      },
      "execution_count": 29,
      "outputs": [
        {
          "output_type": "stream",
          "name": "stdout",
          "text": [
            "['False', 'None', 'True', 'and', 'as', 'assert', 'async', 'await', 'break', 'class', 'continue', 'def', 'del', 'elif', 'else', 'except', 'finally', 'for', 'from', 'global', 'if', 'import', 'in', 'is', 'lambda', 'nonlocal', 'not', 'or', 'pass', 'raise', 'return', 'try', 'while', 'with', 'yield']\n"
          ]
        }
      ]
    },
    {
      "cell_type": "code",
      "source": [
        "# 4. Write a program that checks if a word is a Python keyword.\n",
        "import keyword\n",
        "\n",
        "word = input(\"Enter a word: \")\n",
        "if keyword.iskeyword(word):\n",
        "    print(\"It's a Python keyword.\")\n",
        "else:\n",
        "    print(\"It's not a Python keyword..\")\n"
      ],
      "metadata": {
        "colab": {
          "base_uri": "https://localhost:8080/"
        },
        "id": "WZUMmi5GXm13",
        "outputId": "a1361a84-9116-4673-d0f8-85bce67b4907"
      },
      "execution_count": 25,
      "outputs": [
        {
          "output_type": "stream",
          "name": "stdout",
          "text": [
            "Enter a word: vishal\n",
            "It's not a Python keyword..\n"
          ]
        }
      ]
    },
    {
      "cell_type": "code",
      "source": [
        "# 5. Create a list and tuple in Python and show how appending or changing elements works differently\n",
        "my_list = [1, 2, 3]\n",
        "my_list[0] = 10\n",
        "print(\"Modified list:\", my_list)\n",
        "\n",
        "my_tuple = (1, 2, 3)\n",
        "# my_tuple[0] = 10  # This will raise an error: Tuples are immutable\n",
        "print(\"Tuple (unchanged):\", my_tuple)\n"
      ],
      "metadata": {
        "colab": {
          "base_uri": "https://localhost:8080/"
        },
        "id": "Q0AHhCcNbAAN",
        "outputId": "4be740b1-7b59-496d-edb3-ebf64de42e0a"
      },
      "execution_count": 32,
      "outputs": [
        {
          "output_type": "stream",
          "name": "stdout",
          "text": [
            "Modified list: [10, 2, 3]\n",
            "Tuple (unchanged): (1, 2, 3)\n"
          ]
        }
      ]
    },
    {
      "cell_type": "code",
      "source": [
        "# 6. Write a function that defines the behavior of variables and how they are assigned\n",
        "def behavior():\n",
        "    a = 70\n",
        "    b = a\n",
        "    b = 30\n",
        "    print(\"a =\", a)\n",
        "    print(\"b =\", b)\n",
        "\n",
        "behavior()\n"
      ],
      "metadata": {
        "colab": {
          "base_uri": "https://localhost:8080/"
        },
        "id": "6rTR5jdzXo0z",
        "outputId": "f526ede5-efd2-43e4-df14-c4c51956557e"
      },
      "execution_count": 38,
      "outputs": [
        {
          "output_type": "stream",
          "name": "stdout",
          "text": [
            "a = 70\n",
            "b = 30\n"
          ]
        }
      ]
    },
    {
      "cell_type": "code",
      "source": [
        "# 7. Write a program that performs basic arithmetic checks on user-input numbers.\n",
        "num1 = float(input(\"Enter the first number: \"))\n",
        "num2 = float(input(\"Enter the second number: \"))\n",
        "\n",
        "sum_result = num1 + num2\n",
        "diff_result = num1 - num2\n",
        "prod_result = num1 * num2\n",
        "div_result = num1 / num2 if num2 != 0 else \"undefined\"\n",
        "\n",
        "print(f\"Sum: {sum_result}\")\n",
        "print(f\"Difference: {diff_result}\")\n",
        "print(f\"Product: {prod_result}\")\n",
        "print(f\"Division: {div_result}\")\n"
      ],
      "metadata": {
        "colab": {
          "base_uri": "https://localhost:8080/"
        },
        "id": "TDdbY3YmXrIH",
        "outputId": "da90bb93-ae9e-4da8-acb4-da033de22e62"
      },
      "execution_count": 40,
      "outputs": [
        {
          "output_type": "stream",
          "name": "stdout",
          "text": [
            "Enter the first number: 18\n",
            "Enter the second number: 2\n",
            "Sum: 20.0\n",
            "Difference: 16.0\n",
            "Product: 36.0\n",
            "Division: 9.0\n"
          ]
        }
      ]
    },
    {
      "cell_type": "code",
      "source": [
        "# 8. Write a program that demonstrates the use of logical operators.\n",
        "x = True\n",
        "y = False\n",
        "print( x and y)\n",
        "print( x or y)\n",
        "print( not x)\n",
        "print( not y)\n",
        "\n"
      ],
      "metadata": {
        "colab": {
          "base_uri": "https://localhost:8080/"
        },
        "id": "Sxdf36NuXs7n",
        "outputId": "c7428395-6329-4d19-dc7d-5f22ea107192"
      },
      "execution_count": 58,
      "outputs": [
        {
          "output_type": "stream",
          "name": "stdout",
          "text": [
            "False\n",
            "True\n",
            "False\n",
            "True\n"
          ]
        }
      ]
    },
    {
      "cell_type": "code",
      "source": [
        "# 9. Write a Python program to convert user input to int, float, and bool types\n",
        "user_input = input(\"Enter something (number): \")\n",
        "\n",
        "int_val = int(user_input)\n",
        "float_val = float(user_input)\n",
        "bool_val = bool(user_input)\n",
        "\n",
        "print(\"As integer:\", int_val)\n",
        "print(\"As float:\", float_val)\n",
        "print(\"As boolean:\", bool_val)\n"
      ],
      "metadata": {
        "colab": {
          "base_uri": "https://localhost:8080/"
        },
        "id": "hqhg4FzFXugG",
        "outputId": "146f14fb-4c9e-468d-c535-8f179860df9f"
      },
      "execution_count": 44,
      "outputs": [
        {
          "output_type": "stream",
          "name": "stdout",
          "text": [
            "Enter something (number): 8\n",
            "As integer: 8\n",
            "As float: 8.0\n",
            "As boolean: True\n"
          ]
        }
      ]
    },
    {
      "cell_type": "code",
      "source": [
        "# 10. Write code that demonstrates type casting using lists and elements\n",
        "my_str = \"123\"\n",
        "my_list = list(my_str)\n",
        "print(\"String to list:\", my_list)\n",
        "\n",
        "my_num = 10\n",
        "my_str_num = str(my_num)\n",
        "print(\"Integer to string:\", my_str_num)\n"
      ],
      "metadata": {
        "colab": {
          "base_uri": "https://localhost:8080/"
        },
        "id": "I7Wwm7iQXzbC",
        "outputId": "d6e8eaf1-f409-4252-cd6f-60a90a723a1a"
      },
      "execution_count": 46,
      "outputs": [
        {
          "output_type": "stream",
          "name": "stdout",
          "text": [
            "String to list: ['1', '2', '3']\n",
            "Integer to string: 10\n"
          ]
        }
      ]
    },
    {
      "cell_type": "code",
      "source": [
        "# 11. Write a program that checks if a number is positive, negative, or zero.\n",
        "num = float(input(\"Enter a number: \"))\n",
        "if num > 0:\n",
        "    print(f\"{num} is positive.\")\n",
        "elif num < 0:\n",
        "    print(f\"{num} is negative.\")\n",
        "else:\n",
        "    print(f\"{num} is zero.\")\n"
      ],
      "metadata": {
        "colab": {
          "base_uri": "https://localhost:8080/"
        },
        "id": "aIl-FQfLX2of",
        "outputId": "0b3aaa64-8d05-41ed-9113-25a41155507c"
      },
      "execution_count": 14,
      "outputs": [
        {
          "output_type": "stream",
          "name": "stdout",
          "text": [
            "Enter a number: 29\n",
            "29.0 is positive.\n"
          ]
        }
      ]
    },
    {
      "cell_type": "code",
      "source": [
        "# 12. Write a for loop to print numbers from 1 to 10\n",
        "for num in range(1, 11):\n",
        "    print(num)\n"
      ],
      "metadata": {
        "colab": {
          "base_uri": "https://localhost:8080/"
        },
        "id": "Vudd6ti1X4YW",
        "outputId": "37f2512d-3f64-499f-ca58-c57e5003d82d"
      },
      "execution_count": 47,
      "outputs": [
        {
          "output_type": "stream",
          "name": "stdout",
          "text": [
            "1\n",
            "2\n",
            "3\n",
            "4\n",
            "5\n",
            "6\n",
            "7\n",
            "8\n",
            "9\n",
            "10\n"
          ]
        }
      ]
    },
    {
      "cell_type": "code",
      "source": [
        "# 13. Write a Python program to find the sum of all even numbers between 1 and 50.\n",
        "even_sum = sum(range(2, 51, 2))\n",
        "print(f\"Sum of all even numbers between 1 and 50: {even_sum}\")\n"
      ],
      "metadata": {
        "colab": {
          "base_uri": "https://localhost:8080/"
        },
        "id": "KzEY-qZ-X5t8",
        "outputId": "12371bd8-59d1-4a19-c7fb-2a98b124f900"
      },
      "execution_count": 16,
      "outputs": [
        {
          "output_type": "stream",
          "name": "stdout",
          "text": [
            "Sum of all even numbers between 1 and 50: 650\n"
          ]
        }
      ]
    },
    {
      "cell_type": "code",
      "source": [
        "# 14. Write a Python program to reverse a string using a while loop\n",
        "text = input(\"Enter a string: \")\n",
        "reversed_text = ''\n",
        "index = len(text) - 1\n",
        "\n",
        "while index >= 0:\n",
        "    reversed_text += text[index]\n",
        "    index -= 1\n",
        "\n",
        "print(\"Reversed string:\", reversed_text)\n"
      ],
      "metadata": {
        "colab": {
          "base_uri": "https://localhost:8080/"
        },
        "id": "6pUT3SnbX7OQ",
        "outputId": "d3209aed-5f55-413f-d54b-2ab1253748ff"
      },
      "execution_count": 51,
      "outputs": [
        {
          "output_type": "stream",
          "name": "stdout",
          "text": [
            "Enter a string: lahsiv\n",
            "Reversed string: vishal\n"
          ]
        }
      ]
    },
    {
      "cell_type": "code",
      "source": [
        "# 15. Write a Python program to calculate the factorial of a number provided by the user using a while loop\n",
        "\n",
        "num = int(input(\"Enter a non-negative integer: \"))\n",
        "\n",
        "if num < 0:\n",
        "    print(\"Factorial is not defined for negative numbers.\")\n",
        "else:\n",
        "    factorial = 1\n",
        "    i = 1\n",
        "    while i <= num:\n",
        "        factorial *= i\n",
        "        i += 1\n",
        "    print(f\"Factorial of {num} is {factorial}\")\n"
      ],
      "metadata": {
        "colab": {
          "base_uri": "https://localhost:8080/"
        },
        "id": "kVFxRS5WYAV1",
        "outputId": "bd9b6e04-2f38-4313-bd15-28c358b50307"
      },
      "execution_count": 54,
      "outputs": [
        {
          "output_type": "stream",
          "name": "stdout",
          "text": [
            "Enter a non-negative integer: 4\n",
            "Factorial of 4 is 24\n"
          ]
        }
      ]
    },
    {
      "cell_type": "code",
      "source": [],
      "metadata": {
        "id": "lpDw9QLLYCV0"
      },
      "execution_count": null,
      "outputs": []
    }
  ]
}